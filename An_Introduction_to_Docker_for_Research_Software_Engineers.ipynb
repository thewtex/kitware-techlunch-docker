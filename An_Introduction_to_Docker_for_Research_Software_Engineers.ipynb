{
 "metadata": {
  "kernelspec": {
   "codemirror_mode": {
    "name": "ipython",
    "version": 2
   },
   "display_name": "IPython (Python 2)",
   "language": "python",
   "name": "python2"
  },
  "name": "",
  "signature": "sha256:0f954a027dd3110c22188ba443d9cf97d5e5abe2aaf0af4fca3b8b1888595143"
 },
 "nbformat": 3,
 "nbformat_minor": 0,
 "worksheets": [
  {
   "cells": [
    {
     "cell_type": "code",
     "collapsed": false,
     "input": [
      "from IPython.html.widgets import interact, interactive\n",
      "from IPython.display import clear_output, display, HTML\n",
      "\n",
      "import numpy as np\n",
      "from scipy import integrate\n",
      "\n",
      "from matplotlib import pyplot as plt\n",
      "from mpl_toolkits.mplot3d import Axes3D\n",
      "from matplotlib.colors import cnames\n",
      "from matplotlib import animation\n",
      "\n",
      "%matplotlib inline"
     ],
     "language": "python",
     "metadata": {
      "internals": {
       "slide_helper": "subslide_end",
       "slide_type": "subslide"
      },
      "slide_helper": "slide_end",
      "slideshow": {
       "slide_type": "slide"
      }
     },
     "outputs": [],
     "prompt_number": 1
    },
    {
     "cell_type": "markdown",
     "metadata": {
      "internals": {
       "slide_helper": "subslide_end",
       "slide_type": "subslide"
      },
      "slide_helper": "slide_end",
      "slideshow": {
       "slide_type": "slide"
      }
     },
     "source": [
      "# Docker: An Introduction for Research Software Engineers\n",
      "\n",
      "#### Matt McCormick, Kitware, Inc\n",
      "#### Kitware Tech Lunch, 2015-02-10"
     ]
    },
    {
     "cell_type": "heading",
     "level": 1,
     "metadata": {
      "internals": {
       "slide_helper": "subslide_end",
       "slide_type": "subslide"
      },
      "slide_helper": "subslide_end",
      "slideshow": {
       "slide_type": "slide"
      }
     },
     "source": [
      "The Problem"
     ]
    },
    {
     "cell_type": "markdown",
     "metadata": {
      "internals": {
       "slide_helper": "subslide_end",
       "slide_type": "subslide"
      },
      "slide_helper": "subslide_end",
      "slideshow": {
       "slide_type": "subslide"
      }
     },
     "source": [
      "Even though computers are often considered deterministic, **computational software is a rapidly evolving and changing landscape**. Libraries are constantly adding new features and fixing issues. \n",
      "\n",
      "<img src=\"images/PythonStoryline.svg\" width=700>"
     ]
    },
    {
     "cell_type": "markdown",
     "metadata": {
      "internals": {
       "slide_helper": "subslide_end",
       "slide_type": "subslide"
      },
      "slide_helper": "subslide_end",
      "slideshow": {
       "slide_type": "subslide"
      }
     },
     "source": [
      "Even libraries with the strictest backwards-compatibility policies can **change in significant ways**.\n",
      "\n",
      "<img src=\"images/BackwardsCompatibility.png\" width=\"600px\">"
     ]
    },
    {
     "cell_type": "markdown",
     "metadata": {
      "internals": {
       "slide_helper": "subslide_end",
       "slide_type": "subslide"
      },
      "slide_helper": "subslide_end",
      "slideshow": {
       "slide_type": "subslide"
      }
     },
     "source": [
      "A **reproducible computational environment** is *sufficiently consistent for the computational task at hand*.\n",
      "\n",
      "For example, this can consist of\n",
      "\n",
      "- a similar CPU instruction set\n",
      "- libraries and executables available with a specific version and configuration options\n",
      "- a specific version of a given compiler\n",
      "- a specific version of a libc implementation\n",
      "- a specific version of the C++ standard library"
     ]
    },
    {
     "cell_type": "heading",
     "level": 2,
     "metadata": {
      "internals": {
       "slide_helper": "subslide_end",
       "slide_type": "subslide"
      },
      "slide_helper": "subslide_end",
      "slideshow": {
       "slide_type": "subslide"
      }
     },
     "source": [
      "Close But Not Good Enough"
     ]
    },
    {
     "cell_type": "markdown",
     "metadata": {
      "internals": {
       "slide_type": "subslide"
      },
      "slideshow": {
       "slide_type": "subslide"
      }
     },
     "source": [
      "### Source code\n",
      "\n",
      "Does not include:\n",
      "\n",
      "- Compiler\n",
      "- Hardware it was built on\n",
      "- How it is configured"
     ]
    },
    {
     "cell_type": "markdown",
     "metadata": {
      "internals": {
       "frag_number": 8,
       "slide_helper": "subslide_end"
      },
      "slide_helper": "subslide_end",
      "slideshow": {
       "slide_type": "fragment"
      }
     },
     "source": [
      "<img src=\"images/ConfusedCat.jpg\" width=\"400px\">"
     ]
    },
    {
     "cell_type": "markdown",
     "metadata": {
      "internals": {
       "frag_helper": "fragment_end",
       "frag_number": 8,
       "slide_helper": "subslide_end",
       "slide_type": "subslide"
      },
      "slide_helper": "subslide_end",
      "slideshow": {
       "slide_type": "subslide"
      }
     },
     "source": [
      "### Package managers and distributions\n",
      "\n",
      "- There is not, and there will not be, a consensus on *the* package manager\n",
      "- Packages become unsupported over time\n",
      "- What to do if a required library is not packaged?\n",
      "\n",
      "<img src=\"images/ModulesModulesModules.png\" width=\"500px\">"
     ]
    },
    {
     "cell_type": "markdown",
     "metadata": {
      "internals": {
       "frag_helper": "fragment_end",
       "frag_number": 8,
       "slide_helper": "subslide_end",
       "slide_type": "subslide"
      },
      "slide_helper": "subslide_end",
      "slideshow": {
       "slide_type": "subslide"
      }
     },
     "source": [
      "### Virtual machines (VMs)\n",
      "\n",
      "- Inefficient utilization of computational resources\n",
      "\n",
      "<img src=\"images/CarJam.jpg\">"
     ]
    },
    {
     "cell_type": "markdown",
     "metadata": {
      "internals": {
       "frag_helper": "fragment_end",
       "frag_number": 8,
       "slide_type": "subslide"
      },
      "slideshow": {
       "slide_type": "subslide"
      }
     },
     "source": [
      "# Enter Docker\n",
      "\n",
      "![Docker logo](images/DockerLogo.png)\n",
      "\n",
      "Docker is new type of tool to easily build, ship, and run reproducible, binary applications.  \n",
      "\n",
      "It is \"good enough\" for a reproducible computational environment.\n",
      "\n",
      "In this talk, we will introduce Docker from the perspective a scientific research software engineer.  We will\n"
     ]
    },
    {
     "cell_type": "markdown",
     "metadata": {
      "internals": {
       "frag_helper": "fragment_end",
       "frag_number": 12
      },
      "slideshow": {
       "slide_type": "fragment"
      }
     },
     "source": [
      "- Generate an understanding of what Docker is by comparing it to existing technologies."
     ]
    },
    {
     "cell_type": "markdown",
     "metadata": {
      "internals": {
       "frag_helper": "fragment_end",
       "frag_number": 13
      },
      "slideshow": {
       "slide_type": "fragment"
      }
     },
     "source": [
      "- Give an introduction to basic Docker concepts."
     ]
    },
    {
     "cell_type": "markdown",
     "metadata": {
      "internals": {
       "frag_helper": "fragment_end",
       "frag_number": 14,
       "slide_helper": "subslide_end"
      },
      "slide_helper": "slide_end",
      "slideshow": {
       "slide_type": "fragment"
      }
     },
     "source": [
      "- Go through examples that demonstrate when and how it is beneficial to take advantage of this tool."
     ]
    },
    {
     "cell_type": "markdown",
     "metadata": {
      "internals": {
       "frag_helper": "fragment_end",
       "frag_number": 14,
       "slide_helper": "subslide_end",
       "slide_type": "subslide"
      },
      "slide_helper": "subslide_end",
      "slideshow": {
       "slide_type": "slide"
      }
     },
     "source": [
      "# Understanding Docker\n",
      "\n",
      "### Not just this cute whale thing"
     ]
    },
    {
     "cell_type": "markdown",
     "metadata": {
      "internals": {
       "frag_helper": "fragment_end",
       "frag_number": 14,
       "slide_type": "subslide"
      },
      "slideshow": {
       "slide_type": "subslide"
      }
     },
     "source": [
      "Docker is an open-source engine that automates the deployment of any application as a **lightweight**, **portable**, **self-sufficient container** that will run virtually anywhere.\n",
      "\n",
      "\n"
     ]
    },
    {
     "cell_type": "code",
     "collapsed": false,
     "input": [
      "!docker run --rm busybox sh -c 'echo \"Hello Docker World!\"'"
     ],
     "language": "python",
     "metadata": {
      "internals": {
       "frag_helper": "fragment_end",
       "frag_number": 14,
       "slide_helper": "subslide_end"
      },
      "slide_helper": "subslide_end",
      "slideshow": {
       "slide_type": "-"
      }
     },
     "outputs": []
    },
    {
     "cell_type": "markdown",
     "metadata": {
      "internals": {
       "frag_helper": "fragment_end",
       "frag_number": 14,
       "slide_helper": "subslide_end",
       "slide_type": "subslide"
      },
      "slide_helper": "subslide_end",
      "slideshow": {
       "slide_type": "subslide"
      }
     },
     "source": [
      "###Docker is a combination of a:\n",
      "\n",
      "1. **Sandboxed chroot**\n",
      "2. **Copy on write filesystem**\n",
      "3. **Distributed VCS for binaries**\n",
      "4. **Easy to use interface**"
     ]
    },
    {
     "cell_type": "markdown",
     "metadata": {
      "internals": {
       "frag_helper": "fragment_end",
       "frag_number": 14,
       "slide_helper": "subslide_end",
       "slide_type": "subslide"
      },
      "slide_helper": "subslide_end",
      "slideshow": {
       "slide_type": "subslide"
      }
     },
     "source": [
      "##Sandboxed chroot"
     ]
    },
    {
     "cell_type": "markdown",
     "metadata": {
      "internals": {
       "frag_helper": "fragment_end",
       "frag_number": 14,
       "slide_helper": "subslide_end",
       "slide_type": "subslide"
      },
      "slide_helper": "subslide_end",
      "slideshow": {
       "slide_type": "subslide"
      }
     },
     "source": [
      "Docker works with images that **consume minimal disk space**, **versioned**, **archiveable**, and **shareable**. Executing applications in these images does not require dedicated resources and is **high performance**.\n",
      "\n",
      "It works with **containers** as opposed to **virtual machines** (VM's).\n",
      "\n",
      "<img src=\"images/DockerVM.jpg\" width=\"600\">"
     ]
    },
    {
     "cell_type": "code",
     "collapsed": false,
     "input": [
      "%time !docker run --rm busybox sh -c 'echo \"Hello Docker World!\"'"
     ],
     "language": "python",
     "metadata": {
      "internals": {
       "frag_helper": "fragment_end",
       "frag_number": 14,
       "slide_helper": "subslide_end",
       "slide_type": "subslide"
      },
      "slide_helper": "subslide_end",
      "slideshow": {
       "slide_type": "subslide"
      }
     },
     "outputs": []
    },
    {
     "cell_type": "markdown",
     "metadata": {
      "internals": {
       "frag_helper": "fragment_end",
       "frag_number": 14,
       "slide_helper": "subslide_end",
       "slide_type": "subslide"
      },
      "slide_helper": "subslide_end",
      "slideshow": {
       "slide_type": "subslide"
      }
     },
     "source": [
      "A Docker container is similar to a running an application in a *chroot*, but it sandboxes processes and the network stack with Linux kernel:\n",
      "\n",
      "* **Namespaces**: isolated processes, networking, messaging, file systems, hostname's\n",
      "* **CGroups**: groups together cpu, memory, and IO resources\n",
      "\n",
      "<img src=\"images/Chroot.png\" width=\"600px\">"
     ]
    },
    {
     "cell_type": "markdown",
     "metadata": {
      "internals": {
       "frag_helper": "fragment_end",
       "frag_number": 14,
       "slide_helper": "subslide_end",
       "slide_type": "subslide"
      },
      "slide_helper": "subslide_end",
      "slideshow": {
       "slide_type": "subslide"
      }
     },
     "source": [
      "##Copy on Write Filesystem\n",
      "\n",
      "**Union file systems**, or UnionFS, are file systems that operate by **creating layers**, making them very **lightweight** and **fast**. Docker uses union file systems to provide the building blocks for containers. Docker can make use of several union file system variants including: \n",
      "\n",
      "- AUFS\n",
      "- btrfs\n",
      "- vfs\n",
      "- DeviceMapper\n",
      "\n",
      "<img src=\"images/LayerCake.jpg\" width=\"400px\">"
     ]
    },
    {
     "cell_type": "markdown",
     "metadata": {
      "internals": {
       "frag_helper": "fragment_end",
       "frag_number": 14,
       "slide_helper": "subslide_end",
       "slide_type": "subslide"
      },
      "slide_helper": "subslide_end",
      "slideshow": {
       "slide_type": "subslide"
      }
     },
     "source": [
      "### Kernel and root filesystem\n",
      "\n",
      "<img src=\"images/FilesystemsGeneric.png\" width=\"600px\">"
     ]
    },
    {
     "cell_type": "markdown",
     "metadata": {
      "internals": {
       "frag_helper": "fragment_end",
       "frag_number": 14,
       "slide_helper": "subslide_end",
       "slide_type": "subslide"
      },
      "slide_helper": "subslide_end",
      "slideshow": {
       "slide_type": "subslide"
      }
     },
     "source": [
      "###Re-usable, shared filesystem layers\n",
      "\n",
      "<img src=\"images/DockerFilesystems.svg\" width=500>"
     ]
    },
    {
     "cell_type": "markdown",
     "metadata": {
      "internals": {
       "frag_helper": "fragment_end",
       "frag_number": 14,
       "slide_type": "subslide"
      },
      "slideshow": {
       "slide_type": "subslide"
      }
     },
     "source": [
      "##Distributed VCS for binaries\n",
      "\n",
      "### Docker is like Git for binaries\n",
      "\n"
     ]
    },
    {
     "cell_type": "markdown",
     "metadata": {
      "internals": {
       "frag_helper": "fragment_end",
       "frag_number": 14
      },
      "slideshow": {
       "slide_type": "notes"
      }
     },
     "source": [
      "###DockerHub is like GitHub\n",
      "\n",
      "<img src=\"images/DockerHub.png\" width=\"700px\">"
     ]
    },
    {
     "cell_type": "code",
     "collapsed": false,
     "input": [
      "!docker search itk"
     ],
     "language": "python",
     "metadata": {
      "internals": {
       "frag_helper": "fragment_end",
       "frag_number": 14,
       "slide_helper": "subslide_end"
      },
      "slide_helper": "subslide_end",
      "slideshow": {
       "slide_type": "notes"
      }
     },
     "outputs": []
    },
    {
     "cell_type": "markdown",
     "metadata": {
      "internals": {
       "frag_helper": "fragment_end",
       "frag_number": 14,
       "slide_helper": "subslide_end",
       "slide_type": "subslide"
      },
      "slide_helper": "subslide_end",
      "slideshow": {
       "slide_type": "subslide"
      }
     },
     "source": [
      "### Docker is like Git, since\n",
      "\n",
      "- Docker images are identified with hex string or tags\n",
      "- Interface is `docker <subcommand>`\n",
      "- `docker push`, `docker pull`, `docker tag`\n",
      "- `docker export` will create a archiveable tarball of an image's filesystem. "
     ]
    },
    {
     "cell_type": "markdown",
     "metadata": {
      "internals": {
       "frag_helper": "fragment_end",
       "frag_number": 14,
       "slide_helper": "subslide_end",
       "slide_type": "subslide"
      },
      "slide_helper": "subslide_end",
      "slideshow": {
       "slide_type": "subslide"
      }
     },
     "source": [
      "##Easy to use interface"
     ]
    },
    {
     "cell_type": "code",
     "collapsed": false,
     "input": [
      "!docker --help"
     ],
     "language": "python",
     "metadata": {
      "internals": {
       "frag_helper": "fragment_end",
       "frag_number": 14,
       "slide_helper": "subslide_end",
       "slide_type": "subslide"
      },
      "slide_helper": "subslide_end",
      "slideshow": {
       "slide_type": "subslide"
      }
     },
     "outputs": []
    },
    {
     "cell_type": "code",
     "collapsed": false,
     "input": [
      "!docker cp --help"
     ],
     "language": "python",
     "metadata": {
      "internals": {
       "frag_helper": "fragment_end",
       "frag_number": 14,
       "slide_helper": "subslide_end",
       "slide_type": "subslide"
      },
      "slide_helper": "subslide_end",
      "slideshow": {
       "slide_type": "subslide"
      }
     },
     "outputs": []
    },
    {
     "cell_type": "markdown",
     "metadata": {
      "internals": {
       "frag_helper": "fragment_end",
       "frag_number": 14,
       "slide_helper": "subslide_end",
       "slide_type": "subslide"
      },
      "slide_helper": "subslide_end",
      "slideshow": {
       "slide_type": "subslide"
      }
     },
     "source": [
      "###Installing\n",
      "\n",
      "Here's what you need:\n",
      "\n",
      "- Linux kernel with control groups and namespaces\n",
      "- Support for Another Union File System (AUFS)\n",
      "- Docker Daemon / Server (written in Go)\n",
      "\n",
      "<img src=\"images/MasonJar.jpg\" width=\"600px\">"
     ]
    },
    {
     "cell_type": "markdown",
     "metadata": {
      "internals": {
       "frag_helper": "fragment_end",
       "frag_number": 14,
       "slide_type": "subslide"
      },
      "slideshow": {
       "slide_type": "subslide"
      }
     },
     "source": [
      "####Linux\n",
      "\n",
      "- Ubuntu 14.04 *or*\n",
      "- See [Docker installation instructions](http://docs.docker.com/installation/) for distributions with Kernel 3.8 + later *or*\n",
      "- [Kernel configuration instructions](https://wiki.gentoo.org/wiki/LXC)"
     ]
    },
    {
     "cell_type": "markdown",
     "metadata": {
      "internals": {
       "frag_helper": "fragment_end",
       "frag_number": 35,
       "slide_helper": "subslide_end"
      },
      "slide_helper": "slide_end",
      "slideshow": {
       "slide_type": "fragment"
      }
     },
     "source": [
      "####Windows and Mac\n",
      "\n",
      "[boot2docker](http://boot2docker.io/)\n",
      "\n",
      "* easy install of\n",
      "  - Git Bash\n",
      "  - VirtualBox\n",
      "  - Lightweight Linux distribution\n",
      "  - Docker\n",
      "\n",
      "* Works, but adds layer of complexity\n",
      "* Mac native interface improving\n",
      "* Comes with busybox shell -> Write your Docker build.sh and run.sh in Bourne shell"
     ]
    },
    {
     "cell_type": "markdown",
     "metadata": {
      "internals": {
       "frag_helper": "fragment_end",
       "frag_number": 35,
       "slide_helper": "subslide_end",
       "slide_type": "subslide"
      },
      "slide_helper": "subslide_end",
      "slideshow": {
       "slide_type": "slide"
      }
     },
     "source": [
      "# Docker Concepts"
     ]
    },
    {
     "cell_type": "markdown",
     "metadata": {
      "internals": {
       "frag_helper": "fragment_end",
       "frag_number": 35,
       "slide_type": "subslide"
      },
      "slideshow": {
       "slide_type": "subslide"
      }
     },
     "source": [
      "##Image\n",
      " \n",
      "###A read-only file system layer"
     ]
    },
    {
     "cell_type": "markdown",
     "metadata": {
      "internals": {
       "frag_helper": "fragment_end",
       "frag_number": 38,
       "slide_helper": "subslide_end"
      },
      "slide_helper": "subslide_end",
      "slideshow": {
       "slide_type": "fragment"
      }
     },
     "source": [
      "<img src=\"images/DockerFilesystemsBusybox.png\" width=\"600px\">"
     ]
    },
    {
     "cell_type": "code",
     "collapsed": false,
     "input": [
      "!docker images"
     ],
     "language": "python",
     "metadata": {
      "internals": {
       "frag_helper": "fragment_end",
       "frag_number": 38,
       "slide_type": "subslide"
      },
      "slideshow": {
       "slide_type": "subslide"
      }
     },
     "outputs": []
    },
    {
     "cell_type": "code",
     "collapsed": false,
     "input": [
      "!docker pull odise/busybox-python"
     ],
     "language": "python",
     "metadata": {
      "internals": {
       "frag_helper": "fragment_end",
       "frag_number": 40
      },
      "slideshow": {
       "slide_type": "fragment"
      }
     },
     "outputs": []
    },
    {
     "cell_type": "code",
     "collapsed": false,
     "input": [
      "!docker images"
     ],
     "language": "python",
     "metadata": {
      "internals": {
       "frag_helper": "fragment_end",
       "frag_number": 41,
       "slide_helper": "subslide_end"
      },
      "slide_helper": "subslide_end",
      "slideshow": {
       "slide_type": "fragment"
      }
     },
     "outputs": []
    },
    {
     "cell_type": "markdown",
     "metadata": {
      "internals": {
       "frag_helper": "fragment_end",
       "frag_number": 41,
       "slide_type": "subslide"
      },
      "slideshow": {
       "slide_type": "subslide"
      }
     },
     "source": [
      "##Container\n",
      "\n",
      "###An modifiable image with processes running in memory, or an exited container with a modified filesystem"
     ]
    },
    {
     "cell_type": "markdown",
     "metadata": {
      "internals": {
       "frag_helper": "fragment_end",
       "frag_number": 43,
       "slide_helper": "subslide_end"
      },
      "slide_helper": "subslide_end",
      "slideshow": {
       "slide_type": "fragment"
      }
     },
     "source": [
      "<img src=\"images/DockerFilesystemsBusybox.png\" width=\"600px\">"
     ]
    },
    {
     "cell_type": "code",
     "collapsed": false,
     "input": [
      "!docker ps"
     ],
     "language": "python",
     "metadata": {
      "internals": {
       "frag_helper": "fragment_end",
       "frag_number": 43,
       "slide_type": "subslide"
      },
      "slideshow": {
       "slide_type": "subslide"
      }
     },
     "outputs": []
    },
    {
     "cell_type": "code",
     "collapsed": false,
     "input": [
      "!docker run -d busybox sh -c 'sleep 3'"
     ],
     "language": "python",
     "metadata": {
      "internals": {
       "frag_helper": "fragment_end",
       "frag_number": 45
      },
      "slideshow": {
       "slide_type": "fragment"
      }
     },
     "outputs": []
    },
    {
     "cell_type": "code",
     "collapsed": false,
     "input": [
      "!docker ps"
     ],
     "language": "python",
     "metadata": {
      "internals": {
       "frag_helper": "fragment_end",
       "frag_number": 46
      },
      "slideshow": {
       "slide_type": "fragment"
      }
     },
     "outputs": []
    },
    {
     "cell_type": "code",
     "collapsed": false,
     "input": [
      "!docker ps -a"
     ],
     "language": "python",
     "metadata": {
      "internals": {
       "frag_helper": "fragment_end",
       "frag_number": 47,
       "slide_helper": "subslide_end"
      },
      "slide_helper": "subslide_end",
      "slideshow": {
       "slide_type": "fragment"
      }
     },
     "outputs": []
    },
    {
     "cell_type": "markdown",
     "metadata": {
      "internals": {
       "frag_helper": "fragment_end",
       "frag_number": 47,
       "slide_type": "subslide"
      },
      "slideshow": {
       "slide_type": "subslide"
      }
     },
     "source": [
      "##Volume\n",
      "\n",
      "###A mounted directory that is not tracked as a filesystem layer\n",
      "\n",
      "* Data volumes are initialized when a container is created\n",
      "* Volumes can be shared and reused between containers\n",
      "* Changes to a data volume are made directly\n",
      "* Changes to a data volume will not be included when you update an image\n",
      "* Volume persist until no containers use them\n",
      "* Host directories can also be mounted as data volumes"
     ]
    },
    {
     "cell_type": "code",
     "collapsed": false,
     "input": [
      "!ls $PWD/images/"
     ],
     "language": "python",
     "metadata": {
      "internals": {
       "frag_helper": "fragment_end",
       "frag_number": 47
      },
      "slideshow": {
       "slide_type": "-"
      }
     },
     "outputs": []
    },
    {
     "cell_type": "code",
     "collapsed": false,
     "input": [
      "!docker run --rm --volume $PWD/images:/images busybox \\\n",
      "    sh -c 'ls /images'"
     ],
     "language": "python",
     "metadata": {
      "internals": {
       "frag_helper": "fragment_end",
       "frag_number": 47,
       "slide_helper": "subslide_end"
      },
      "slide_helper": "subslide_end",
      "slideshow": {
       "slide_type": "-"
      }
     },
     "outputs": []
    },
    {
     "cell_type": "markdown",
     "metadata": {
      "internals": {
       "frag_helper": "fragment_end",
       "frag_number": 47,
       "slide_type": "subslide"
      },
      "slideshow": {
       "slide_type": "subslide"
      }
     },
     "source": [
      "##Dockerfile\n",
      "\n",
      "###A sequence of instructions to generate a Docker image"
     ]
    },
    {
     "cell_type": "code",
     "collapsed": false,
     "input": [
      "%%writefile docker-ls-images/Dockerfile\n",
      "\n",
      "# Best practice for Dockerfile's:\n",
      "#   specify exact versions whenever possible.\n",
      "FROM busybox:4986bf8c1536\n",
      "MAINTAINER Matt McCormick <matt.mccormick@kitware.com>\n",
      "RUN mkdir -p /images\n",
      "VOLUME /images\n",
      "CMD [\"/bin/sh\", \"-c\", \"ls /images\"]"
     ],
     "language": "python",
     "metadata": {
      "internals": {
       "frag_helper": "fragment_end",
       "frag_number": 52,
       "slide_helper": "subslide_end"
      },
      "slide_helper": "subslide_end",
      "slideshow": {
       "slide_type": "fragment"
      }
     },
     "outputs": [
      {
       "output_type": "stream",
       "stream": "stdout",
       "text": [
        "Overwriting docker-ls-images/Dockerfile\n"
       ]
      }
     ],
     "prompt_number": 8
    },
    {
     "cell_type": "code",
     "collapsed": false,
     "input": [
      "!docker build -t ls-images ./docker-ls-images"
     ],
     "language": "python",
     "metadata": {
      "internals": {
       "frag_helper": "fragment_end",
       "frag_number": 52,
       "slide_type": "subslide"
      },
      "slideshow": {
       "slide_type": "subslide"
      }
     },
     "outputs": []
    },
    {
     "cell_type": "code",
     "collapsed": false,
     "input": [
      "!docker run --rm -v $PWD/images:/images ls-images"
     ],
     "language": "python",
     "metadata": {
      "internals": {
       "frag_helper": "fragment_end",
       "frag_number": 54,
       "slide_helper": "subslide_end"
      },
      "slide_helper": "slide_end",
      "slideshow": {
       "slide_type": "fragment"
      }
     },
     "outputs": []
    },
    {
     "cell_type": "markdown",
     "metadata": {
      "internals": {
       "frag_helper": "fragment_end",
       "frag_number": 54,
       "slide_helper": "subslide_end",
       "slide_type": "subslide"
      },
      "slide_helper": "subslide_end",
      "slideshow": {
       "slide_type": "slide"
      }
     },
     "source": [
      "# Example Applications"
     ]
    },
    {
     "cell_type": "markdown",
     "metadata": {
      "internals": {
       "frag_helper": "fragment_end",
       "frag_number": 54,
       "slide_helper": "subslide_end",
       "slide_type": "subslide"
      },
      "slide_helper": "subslide_end",
      "slideshow": {
       "slide_type": "subslide"
      }
     },
     "source": [
      "##Creating a Reproducible Computational Environment"
     ]
    },
    {
     "cell_type": "markdown",
     "metadata": {
      "internals": {
       "frag_helper": "fragment_end",
       "frag_number": 54,
       "slide_helper": "subslide_end",
       "slide_type": "subslide"
      },
      "slide_helper": "subslide_end",
      "slideshow": {
       "slide_type": "subslide"
      }
     },
     "source": [
      "Reproducing [an article on PET image series kinetic analysis](http://hdl.handle.net/10380/3469)\n",
      "\n",
      "<img src=\"images/itkka.png\" width=\"650px\">"
     ]
    },
    {
     "cell_type": "markdown",
     "metadata": {
      "internals": {
       "frag_helper": "fragment_end",
       "frag_number": 54,
       "slide_helper": "subslide_end",
       "slide_type": "subslide"
      },
      "slide_helper": "subslide_end",
      "slideshow": {
       "slide_type": "subslide"
      }
     },
     "source": [
      "####The Article's Build Instructions Part 1\n",
      "\n",
      "<img src=\"images/BuildInstructions1.png\" width=\"650px\">"
     ]
    },
    {
     "cell_type": "markdown",
     "metadata": {
      "internals": {
       "frag_helper": "fragment_end",
       "frag_number": 54,
       "slide_helper": "subslide_end",
       "slide_type": "subslide"
      },
      "slide_helper": "subslide_end",
      "slideshow": {
       "slide_type": "subslide"
      }
     },
     "source": [
      "####The Article's Build Instructions Part 2\n",
      "\n",
      "<img src=\"images/BuildInstructions2.png\" width=\"650px\">"
     ]
    },
    {
     "cell_type": "markdown",
     "metadata": {
      "internals": {
       "frag_helper": "fragment_end",
       "frag_number": 54,
       "slide_helper": "subslide_end",
       "slide_type": "subslide"
      },
      "slide_helper": "subslide_end",
      "slideshow": {
       "slide_type": "subslide"
      }
     },
     "source": [
      "####The Article's Build Instructions Part 3\n",
      "\n",
      "<img src=\"images/BuildInstructions3.png\" width=\"650px\">"
     ]
    },
    {
     "cell_type": "markdown",
     "metadata": {
      "internals": {
       "frag_helper": "fragment_end",
       "frag_number": 54,
       "slide_helper": "subslide_end",
       "slide_type": "subslide"
      },
      "slide_helper": "subslide_end",
      "slideshow": {
       "slide_type": "subslide"
      }
     },
     "source": [
      "####The Article's Build Instructions Part 4\n",
      "\n",
      "<img src=\"images/BuildInstructions4.png\" width=\"650px\">"
     ]
    },
    {
     "cell_type": "markdown",
     "metadata": {
      "internals": {
       "frag_helper": "fragment_end",
       "frag_number": 54,
       "slide_type": "subslide"
      },
      "slideshow": {
       "slide_type": "subslide"
      }
     },
     "source": [
      "###Building and Running with Docker"
     ]
    },
    {
     "cell_type": "code",
     "collapsed": false,
     "input": [
      "!git clone https://github.com/thewtex/docker-itkka\n",
      "!cd docker-itkka\n",
      "!./build.sh\n",
      "!./run.sh"
     ],
     "language": "python",
     "metadata": {
      "internals": {
       "frag_helper": "fragment_end",
       "frag_number": 63
      },
      "slideshow": {
       "slide_type": "fragment"
      }
     },
     "outputs": []
    },
    {
     "cell_type": "markdown",
     "metadata": {
      "internals": {
       "frag_helper": "fragment_end",
       "frag_number": 64,
       "slide_helper": "subslide_end"
      },
      "slide_helper": "subslide_end",
      "slideshow": {
       "slide_type": "fragment"
      }
     },
     "source": [
      "The requirements for reproducing this computational analysis,\n",
      "\n",
      "* the Ubuntu 14.04 operating system, \n",
      "* the GCC 4.8.2-19ubuntu1 compiler, \n",
      "* and particular versions of the dependencies \n",
      "  - the Insight Toolkit (ITK), \n",
      "  - libxml,\n",
      "  - sundials,\n",
      "  - and Boost,\n",
      "  \n",
      "are now **runnable on any x86_64 operating system**, **archiveable**, and **shareable**."
     ]
    },
    {
     "cell_type": "markdown",
     "metadata": {
      "internals": {
       "frag_helper": "fragment_end",
       "frag_number": 64,
       "slide_type": "subslide"
      },
      "slideshow": {
       "slide_type": "subslide"
      }
     },
     "source": [
      "###Still runnable ten years later\n",
      "\n",
      "Ten years later, when the OS, compiler, and dependencies are likely to be unavailable, we can still easily run and modify the computational environment by pulling [its image](https://github.com/thewtex/docker-itkka) from DockerHub.\n",
      "\n",
      "<img src=\"images/DockerHub.png\" width=\"350px\">"
     ]
    },
    {
     "cell_type": "code",
     "collapsed": false,
     "input": [
      "!docker pull thewtex/itkka\n",
      "!docker run -it thewtex/itkka bash"
     ],
     "language": "python",
     "metadata": {
      "internals": {
       "frag_helper": "fragment_end",
       "frag_number": 66,
       "slide_helper": "subslide_end"
      },
      "slide_helper": "subslide_end",
      "slideshow": {
       "slide_type": "fragment"
      }
     },
     "outputs": []
    },
    {
     "cell_type": "markdown",
     "metadata": {
      "internals": {
       "frag_helper": "fragment_end",
       "frag_number": 66,
       "slide_helper": "subslide_end",
       "slide_type": "subslide"
      },
      "slide_helper": "subslide_end",
      "slideshow": {
       "slide_type": "subslide"
      }
     },
     "source": [
      "##Live Presentations, workshops and demos"
     ]
    },
    {
     "cell_type": "markdown",
     "metadata": {
      "internals": {
       "frag_helper": "fragment_end",
       "frag_number": 66,
       "slide_type": "subslide"
      },
      "slideshow": {
       "slide_type": "subslide"
      }
     },
     "source": [
      "Docker is a good alternative to garlic to stave off *the curse of the live demo*.\n",
      "\n",
      "For example, see the course on [Modern Scientific Computing with Python](https://github.com/thewtex/ieee-nss-mic-scipy-2014) from IEEE NSS / MIC or this presentation :-)."
     ]
    },
    {
     "cell_type": "code",
     "collapsed": false,
     "input": [
      "from IPython.display import YouTubeVideo\n",
      "YouTubeVideo(\"P38cLZJ0w2s\")"
     ],
     "language": "python",
     "metadata": {
      "internals": {
       "frag_helper": "fragment_end",
       "frag_number": 69,
       "slide_helper": "subslide_end"
      },
      "slide_helper": "subslide_end",
      "slideshow": {
       "slide_type": "fragment"
      }
     },
     "outputs": [
      {
       "html": [
        "\n",
        "        <iframe\n",
        "            width=\"400\"\n",
        "            height=300\"\n",
        "            src=\"https://www.youtube.com/embed/P38cLZJ0w2s\"\n",
        "            frameborder=\"0\"\n",
        "            allowfullscreen\n",
        "        ></iframe>\n",
        "        "
       ],
       "metadata": {},
       "output_type": "pyout",
       "prompt_number": 16,
       "text": [
        "<IPython.lib.display.YouTubeVideo at 0x7fe1f0a375d0>"
       ]
      }
     ],
     "prompt_number": 16
    },
    {
     "cell_type": "markdown",
     "metadata": {
      "internals": {
       "frag_helper": "fragment_end",
       "frag_number": 69,
       "slide_helper": "subslide_end",
       "slide_type": "subslide"
      },
      "slide_helper": "subslide_end",
      "slideshow": {
       "slide_type": "subslide"
      }
     },
     "source": [
      "We can demonstrate interatively how to explore the Lorenz system of differential equations:\n",
      "\n",
      "$$\n",
      "\\begin{aligned}\n",
      "\\dot{x} & = \\sigma(y-x) \\\\\n",
      "\\dot{y} & = \\rho x - y - xz \\\\\n",
      "\\dot{z} & = -\\beta z + xy\n",
      "\\end{aligned}\n",
      "$$\n",
      "\n",
      "This is one of the classic systems in non-linear differential equations. It exhibits a range of different behaviors as the parameters ($\\sigma$, $\\beta$, $\\rho$) are varied.\n",
      "\n",
      "We define a function that can integrate the differential equations numerically and then plot the solutions. This function has arguments that control the parameters of the differential equation ($\\sigma$, $\\beta$, $\\rho$), the numerical integration (N, max_time) and the visualization (angle)."
     ]
    },
    {
     "cell_type": "code",
     "collapsed": false,
     "input": [
      "def solve_lorenz(N=10, angle=0.0, max_time=4.0, sigma=10.0, beta=8./3, rho=28.0):\n",
      "\n",
      "    fig = plt.figure()\n",
      "    ax = fig.add_axes([0, 0, 1, 1], projection='3d')\n",
      "    ax.axis('off')\n",
      "\n",
      "    # Prepare the axes limits\n",
      "    ax.set_xlim((-25, 25))\n",
      "    ax.set_ylim((-35, 35))\n",
      "    ax.set_zlim((5, 55))\n",
      "    \n",
      "    def lorenz_deriv((x, y, z), t0, sigma=sigma, beta=beta, rho=rho):\n",
      "        \"\"\"Compute the time-derivative of a Lorentz system.\"\"\"\n",
      "        return [sigma * (y - x), x * (rho - z) - y, x * y - beta * z]\n",
      "\n",
      "    # Choose random starting points, uniformly distributed from -15 to 15\n",
      "    np.random.seed(1)\n",
      "    x0 = -15 + 30 * np.random.random((N, 3))\n",
      "\n",
      "    # Solve for the trajectory\n",
      "    t = np.linspace(0, max_time, int(250*max_time))\n",
      "    x_t = np.asarray([integrate.odeint(lorenz_deriv, x0i, t)\n",
      "                      for x0i in x0])\n",
      "    \n",
      "    # Choose a different color for each trajectory\n",
      "    colors = plt.cm.jet(np.linspace(0, 1, N))\n",
      "\n",
      "    for i in range(N):\n",
      "        x, y, z = x_t[i,:,:].T\n",
      "        lines = ax.plot(x, y, z, '-', c=colors[i])\n",
      "        plt.setp(lines, linewidth=2)\n",
      "\n",
      "    ax.view_init(30, angle)\n",
      "    plt.show()\n",
      "\n",
      "    return t, x_t"
     ],
     "language": "python",
     "metadata": {
      "internals": {
       "frag_helper": "fragment_end",
       "frag_number": 69,
       "slide_helper": "subslide_end",
       "slide_type": "subslide"
      },
      "slide_helper": "subslide_end",
      "slideshow": {
       "slide_type": "subslide"
      }
     },
     "outputs": [],
     "prompt_number": 10
    },
    {
     "cell_type": "code",
     "collapsed": false,
     "input": [
      "# A static view provides limited insights\n",
      "t, x_t = solve_lorenz(angle=0, N=10)"
     ],
     "language": "python",
     "metadata": {
      "internals": {
       "frag_helper": "fragment_end",
       "frag_number": 69,
       "slide_helper": "subslide_end",
       "slide_type": "subslide"
      },
      "slide_helper": "subslide_end",
      "slideshow": {
       "slide_type": "subslide"
      }
     },
     "outputs": [
      {
       "metadata": {},
       "output_type": "display_data",
       "png": "[encoded data removed]",
       "text": [
        "<matplotlib.figure.Figure at 0x7fe1f0b61990>"
       ]
      }
     ],
     "prompt_number": 5
    },
    {
     "cell_type": "code",
     "collapsed": false,
     "input": [
      "# An interative visualization provides much more insight\n",
      "# into the parameters\n",
      "w = interactive(solve_lorenz, angle=(0.,360.),\n",
      "                N=(0,50), sigma=(0.0,50.0), rho=(0.0,50.0))\n",
      "display(w)"
     ],
     "language": "python",
     "metadata": {
      "internals": {
       "frag_helper": "fragment_end",
       "frag_number": 69,
       "slide_helper": "subslide_end",
       "slide_type": "subslide"
      },
      "slide_helper": "subslide_end",
      "slideshow": {
       "slide_type": "subslide"
      }
     },
     "outputs": [
      {
       "metadata": {},
       "output_type": "display_data",
       "png": "[encoded data removed]",
       "text": [
        "<matplotlib.figure.Figure at 0x7fe1f0a37d10>"
       ]
      }
     ],
     "prompt_number": 13
    },
    {
     "cell_type": "code",
     "collapsed": false,
     "input": [
      "YouTubeVideo('QqfjiuqVrV4')"
     ],
     "language": "python",
     "metadata": {
      "internals": {
       "frag_helper": "fragment_end",
       "frag_number": 69,
       "slide_helper": "subslide_end",
       "slide_type": "subslide"
      },
      "slide_helper": "subslide_end",
      "slideshow": {
       "slide_type": "subslide"
      }
     },
     "outputs": [
      {
       "html": [
        "\n",
        "        <iframe\n",
        "            width=\"400\"\n",
        "            height=300\"\n",
        "            src=\"https://www.youtube.com/embed/QqfjiuqVrV4\"\n",
        "            frameborder=\"0\"\n",
        "            allowfullscreen\n",
        "        ></iframe>\n",
        "        "
       ],
       "metadata": {},
       "output_type": "pyout",
       "prompt_number": 15,
       "text": [
        "<IPython.lib.display.YouTubeVideo at 0x7fe1f0a37190>"
       ]
      }
     ],
     "prompt_number": 15
    },
    {
     "cell_type": "markdown",
     "metadata": {
      "internals": {
       "frag_helper": "fragment_end",
       "frag_number": 69,
       "slide_helper": "subslide_end",
       "slide_type": "subslide"
      },
      "slide_helper": "subslide_end",
      "slideshow": {
       "slide_type": "subslide"
      }
     },
     "source": [
      "###Graphical Applications and Docker\n",
      "\n",
      "A *portable Docker image* will only assume standard CPU/memory/disk/network resources are available. The use of *local USB devices* and *video card devices*, for example, will not make the images runnable anywhere.\n",
      "\n",
      "* Use [IPython Notebooks](http://ipython.org/notebook.html)\n",
      "* Use a [VNC Server / Client](http://stackoverflow.com/questions/16296753/can-you-run-gui-apps-in-a-docker-container)\n",
      "* [Install](https://github.com/InsightSoftwareConsortium/ITKDevelopmentEnvironment/blob/master/Docker/itksoftwareguide-edit/Dockerfile) [node-mirror](https://github.com/soliton4/nodeMirror) for a browser viewer/terminal/browser/editor\n",
      "* No OpenGL"
     ]
    },
    {
     "cell_type": "markdown",
     "metadata": {
      "internals": {
       "frag_helper": "fragment_end",
       "frag_number": 69,
       "slide_helper": "subslide_end",
       "slide_type": "subslide"
      },
      "slide_helper": "subslide_end",
      "slideshow": {
       "slide_type": "subslide"
      }
     },
     "source": [
      "##Run Exotic or Binary-only Applications"
     ]
    },
    {
     "cell_type": "markdown",
     "metadata": {
      "internals": {
       "frag_helper": "fragment_end",
       "frag_number": 69,
       "slide_helper": "subslide_end",
       "slide_type": "subslide"
      },
      "slide_helper": "subslide_end",
      "slideshow": {
       "slide_type": "subslide"
      }
     },
     "source": [
      "###MakerBot Makerware\n",
      "\n",
      "The Makerware software to use our MakerBot 3D printer are binaries that only work with certain versions of Ubuntu and Fedora.\n",
      "\n",
      "<img src=\"images/MakerwareWebsite.png\" width=\"650px\">"
     ]
    },
    {
     "cell_type": "markdown",
     "metadata": {
      "internals": {
       "frag_helper": "fragment_end",
       "frag_number": 69,
       "slide_helper": "subslide_end",
       "slide_type": "subslide"
      },
      "slide_helper": "subslide_end",
      "slideshow": {
       "slide_type": "subslide"
      }
     },
     "source": [
      "With the [Makerware image](https://github.com/thewtex/docker-makerware), it is possible to run the latest Makerware with any host Linux distribution.\n",
      "\n",
      "<img src=\"images/MakerwareScreenshot.png\" width=\"650px\">"
     ]
    },
    {
     "cell_type": "markdown",
     "metadata": {
      "internals": {
       "frag_helper": "fragment_end",
       "frag_number": 69,
       "slide_helper": "subslide_end",
       "slide_type": "subslide"
      },
      "slide_helper": "subslide_end",
      "slideshow": {
       "slide_type": "subslide"
      }
     },
     "source": [
      "###VTK Rocks!\n",
      "\n",
      "<img src=\"images/MakerwareVTK.png\" width=\"650px\">"
     ]
    },
    {
     "cell_type": "markdown",
     "metadata": {
      "internals": {
       "frag_helper": "fragment_end",
       "frag_number": 69,
       "slide_type": "subslide"
      },
      "slideshow": {
       "slide_type": "subslide"
      }
     },
     "source": [
      "**Isn't there supposed to be no OpenGL?**\n",
      "\n",
      "<img src=\"images/Liar.png\" width=\"600px\">"
     ]
    },
    {
     "cell_type": "markdown",
     "metadata": {
      "internals": {
       "frag_helper": "fragment_end",
       "frag_number": 81,
       "slide_helper": "subslide_end"
      },
      "slide_helper": "subslide_end",
      "slideshow": {
       "slide_type": "fragment"
      }
     },
     "source": [
      "It is possible to run accelerated X11 OpenGL 3D applications, but the Docker images that are built will **only work** on host systems with the same video driver and compatible video card.\n",
      "\n",
      "See the [docker-opengl-nvidia](https://github.com/thewtex/docker-opengl-nvidia) and the [docker-opengl-mesa](https://github.com/thewtex/docker-opengl-mesa) repositories."
     ]
    },
    {
     "cell_type": "markdown",
     "metadata": {
      "internals": {
       "frag_helper": "fragment_end",
       "frag_number": 81,
       "slide_helper": "subslide_end",
       "slide_type": "subslide"
      },
      "slide_helper": "subslide_end",
      "slideshow": {
       "slide_type": "subslide"
      }
     },
     "source": [
      "##Webapp Development and Deployment"
     ]
    },
    {
     "cell_type": "markdown",
     "metadata": {
      "internals": {
       "frag_helper": "fragment_end",
       "frag_number": 81,
       "slide_type": "subslide"
      },
      "slideshow": {
       "slide_type": "subslide"
      }
     },
     "source": [
      "### Jenkins\n",
      "\n",
      "Jenkins is an extensible open source continuous integration server.\n",
      "\n",
      "<img src=\"images/Jenkins.png\" width=\"250px\">"
     ]
    },
    {
     "cell_type": "markdown",
     "metadata": {
      "internals": {
       "frag_helper": "fragment_end",
       "frag_number": 84,
       "slide_helper": "subslide_end"
      },
      "slide_helper": "subslide_end",
      "slideshow": {
       "slide_type": "fragment"
      }
     },
     "source": [
      "Jenkins is outstanding, but it runs on Java.\n",
      "\n",
      "<img src=\"images/Eww.jpg\" width=\"500px\">"
     ]
    },
    {
     "cell_type": "code",
     "collapsed": false,
     "input": [
      "# Easy execution and sandboxing\n",
      "!docker pull jenkins\n",
      "!docker run --name myjenkins -p 8080:8080 -v /var/jenkins_home jenkins"
     ],
     "language": "python",
     "metadata": {
      "internals": {
       "frag_helper": "fragment_end",
       "frag_number": 84,
       "slide_helper": "subslide_end",
       "slide_type": "subslide"
      },
      "slide_helper": "subslide_end",
      "slideshow": {
       "slide_type": "subslide"
      }
     },
     "outputs": []
    },
    {
     "cell_type": "markdown",
     "metadata": {
      "internals": {
       "frag_helper": "fragment_end",
       "frag_number": 84,
       "slide_helper": "subslide_end",
       "slide_type": "subslide"
      },
      "slide_helper": "subslide_end",
      "slideshow": {
       "slide_type": "subslide"
      }
     },
     "source": [
      "###Basic Web App Development and Deployment\n",
      "\n",
      "<img src=\"images/DockerDeploy.jpg\" width=\"600px\">\n",
      "\n",
      "Automated deploy commands:\n",
      "\n",
      "```bash\n",
      "docker pull mjhea0/flask-docker-workflow\n",
      "docker stop flask\n",
      "docker rm flask\n",
      "docker run --name flask -d -p 80:80 mjhea0/flask-docker-workflow\n",
      "```\n"
     ]
    },
    {
     "cell_type": "markdown",
     "metadata": {
      "internals": {
       "frag_helper": "fragment_end",
       "frag_number": 84,
       "slide_helper": "subslide_end",
       "slide_type": "subslide"
      },
      "slide_helper": "slide_end",
      "slideshow": {
       "slide_type": "subslide"
      }
     },
     "source": [
      "###Many Other Deployment Tools\n",
      "\n",
      "There are many other tools for coordinating many containers that work together, spawning many containers on a cluster, ..."
     ]
    },
    {
     "cell_type": "markdown",
     "metadata": {
      "internals": {
       "frag_helper": "fragment_end",
       "frag_number": 84,
       "slide_helper": "subslide_end",
       "slide_type": "subslide"
      },
      "slide_helper": "subslide_end",
      "slideshow": {
       "slide_type": "slide"
      }
     },
     "source": [
      "# Recap and Next Steps"
     ]
    },
    {
     "cell_type": "markdown",
     "metadata": {
      "internals": {
       "frag_helper": "fragment_end",
       "frag_number": 84,
       "slide_type": "subslide"
      },
      "slideshow": {
       "slide_type": "subslide"
      }
     },
     "source": [
      "## Docker is\n"
     ]
    },
    {
     "cell_type": "markdown",
     "metadata": {
      "internals": {
       "frag_helper": "fragment_end",
       "frag_number": 90
      },
      "slideshow": {
       "slide_type": "fragment"
      }
     },
     "source": [
      "* Sandboxed chroot +"
     ]
    },
    {
     "cell_type": "markdown",
     "metadata": {
      "internals": {
       "frag_helper": "fragment_end",
       "frag_number": 91
      },
      "slideshow": {
       "slide_type": "fragment"
      }
     },
     "source": [
      "* Incremental, copy on write filesystem +"
     ]
    },
    {
     "cell_type": "markdown",
     "metadata": {
      "internals": {
       "frag_helper": "fragment_end",
       "frag_number": 92
      },
      "slideshow": {
       "slide_type": "fragment"
      }
     },
     "source": [
      "* Distributed VCS for binaries +"
     ]
    },
    {
     "cell_type": "markdown",
     "metadata": {
      "internals": {
       "frag_helper": "fragment_end",
       "frag_number": 93,
       "slide_helper": "subslide_end"
      },
      "slide_helper": "subslide_end",
      "slideshow": {
       "slide_type": "fragment"
      }
     },
     "source": [
      "* Easy to use interface"
     ]
    },
    {
     "cell_type": "markdown",
     "metadata": {
      "internals": {
       "frag_helper": "fragment_end",
       "frag_number": 93,
       "slide_type": "subslide"
      },
      "slideshow": {
       "slide_type": "subslide"
      }
     },
     "source": [
      "## Concepts"
     ]
    },
    {
     "cell_type": "markdown",
     "metadata": {
      "internals": {
       "frag_helper": "fragment_end",
       "frag_number": 95
      },
      "slideshow": {
       "slide_type": "fragment"
      }
     },
     "source": [
      "* *Image*:  A read-only file system layer"
     ]
    },
    {
     "cell_type": "markdown",
     "metadata": {
      "internals": {
       "frag_helper": "fragment_end",
       "frag_number": 96
      },
      "slideshow": {
       "slide_type": "fragment"
      }
     },
     "source": [
      "* *Container*: A writable image with processes running in memory, or an exited container with a modified filesystem"
     ]
    },
    {
     "cell_type": "markdown",
     "metadata": {
      "internals": {
       "frag_helper": "fragment_end",
       "frag_number": 97
      },
      "slideshow": {
       "slide_type": "fragment"
      }
     },
     "source": [
      "* *Volume*: A mounted directory that is not tracked as a filesystem layer"
     ]
    },
    {
     "cell_type": "markdown",
     "metadata": {
      "internals": {
       "frag_helper": "fragment_end",
       "frag_number": 98,
       "slide_helper": "subslide_end"
      },
      "slide_helper": "subslide_end",
      "slideshow": {
       "slide_type": "fragment"
      }
     },
     "source": [
      "* *Dockerfile*: A sequence of instructions to generate a Docker image"
     ]
    },
    {
     "cell_type": "markdown",
     "metadata": {
      "internals": {
       "frag_helper": "fragment_end",
       "frag_number": 98,
       "slide_type": "subslide"
      },
      "slideshow": {
       "slide_type": "subslide"
      }
     },
     "source": [
      "## Applications"
     ]
    },
    {
     "cell_type": "markdown",
     "metadata": {
      "internals": {
       "frag_helper": "fragment_end",
       "frag_number": 100
      },
      "slideshow": {
       "slide_type": "fragment"
      }
     },
     "source": [
      "* Reproducible computational environment"
     ]
    },
    {
     "cell_type": "markdown",
     "metadata": {
      "internals": {
       "frag_helper": "fragment_end",
       "frag_number": 101
      },
      "slideshow": {
       "slide_type": "fragment"
      }
     },
     "source": [
      "* Live presentations, workshops, demos"
     ]
    },
    {
     "cell_type": "markdown",
     "metadata": {
      "internals": {
       "frag_helper": "fragment_end",
       "frag_number": 102
      },
      "slideshow": {
       "slide_type": "fragment"
      }
     },
     "source": [
      "* Run exotic applications in a sandbox"
     ]
    },
    {
     "cell_type": "markdown",
     "metadata": {
      "internals": {
       "frag_helper": "fragment_end",
       "frag_number": 103,
       "slide_helper": "subslide_end"
      },
      "slide_helper": "subslide_end",
      "slideshow": {
       "slide_type": "fragment"
      }
     },
     "source": [
      "* Webapp development and deployment"
     ]
    },
    {
     "cell_type": "heading",
     "level": 2,
     "metadata": {
      "internals": {
       "frag_helper": "fragment_end",
       "frag_number": 103,
       "slide_type": "subslide"
      },
      "slideshow": {
       "slide_type": "subslide"
      }
     },
     "source": [
      "Learn more!"
     ]
    },
    {
     "cell_type": "markdown",
     "metadata": {
      "internals": {
       "frag_helper": "fragment_end",
       "frag_number": 105,
       "slide_helper": "subslide_end"
      },
      "slide_helper": "subslide_end",
      "slideshow": {
       "slide_type": "fragment"
      }
     },
     "source": [
      "* [Interactive Brower-Based Docker Tutorial](https://www.docker.com/tryit/)\n",
      "* [Docker Documentation](https://docs.docker.com/userguide/)\n",
      "* [Reproducible Research: Walking the Walk Tutorial](https://reproducible-research.github.io/scipy-tutorial-2014/)\n",
      "* [IPython DockerHub Repositories](https://registry.hub.docker.com/repos/ipython/)"
     ]
    },
    {
     "cell_type": "markdown",
     "metadata": {
      "internals": {
       "frag_helper": "fragment_end",
       "frag_number": 105,
       "slide_helper": "subslide_end",
       "slide_type": "subslide"
      },
      "slide_helper": "subslide_end",
      "slideshow": {
       "slide_type": "subslide"
      }
     },
     "source": [
      "##Docker vs. LXC\n",
      "\n",
      "* [LXC](https://linuxcontainers.org/) is a set of tools and API to interact with Linux kernel namespaces, cgroups, etc.\n",
      "* LXC used to be the default execution enviroment for Docker\n",
      "* Docker provides LXC function, plus:\n",
      "  - Portable deployment across machines\n",
      "  - Application-centric\n",
      "  - Automatic builds\n",
      "  - Versioning\n",
      "  - Component re-use\n",
      "  - Sharing\n",
      "  - Tool echosystem"
     ]
    },
    {
     "cell_type": "markdown",
     "metadata": {
      "internals": {
       "frag_helper": "fragment_end",
       "frag_number": 105,
       "slide_helper": "subslide_end",
       "slide_type": "subslide"
      },
      "slide_helper": "slide_end",
      "slideshow": {
       "slide_type": "subslide"
      }
     },
     "source": [
      "##Docker vs Rocket\n",
      "\n",
      "- [Rocket](https://github.com/coreos/rocket) is a container system like Docker developed by CoreOS\n",
      "- Rocket is not yet fully operational\n",
      "- Rocket does not use a daemon/client system"
     ]
    }
   ],
   "metadata": {}
  }
 ]
}