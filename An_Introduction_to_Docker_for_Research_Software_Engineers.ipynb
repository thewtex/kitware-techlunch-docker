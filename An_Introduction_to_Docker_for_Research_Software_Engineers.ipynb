{
 "metadata": {
  "celltoolbar": "Slideshow",
  "kernelspec": {
   "codemirror_mode": {
    "name": "ipython",
    "version": 3
   },
   "display_name": "IPython (Python 3)",
   "language": "python",
   "name": "python3"
  },
  "name": "",
  "signature": "sha256:d79e7551cd18ae20e8594ec7c51991479cec54801e050e3d802494bb48d4361f"
 },
 "nbformat": 3,
 "nbformat_minor": 0,
 "worksheets": [
  {
   "cells": [
    {
     "cell_type": "markdown",
     "metadata": {
      "internals": {
       "slide_helper": "subslide_end",
       "slide_type": "subslide"
      },
      "slide_helper": "slide_end",
      "slideshow": {
       "slide_type": "slide"
      }
     },
     "source": [
      "# Docker: An Introduction for Research Software Engineers\n",
      "\n",
      "#### Matt McCormick, Kitware, Inc\n",
      "#### Kitware Tech Lunch, 2015-02-10"
     ]
    },
    {
     "cell_type": "heading",
     "level": 1,
     "metadata": {
      "internals": {
       "slide_helper": "subslide_end",
       "slide_type": "subslide"
      },
      "slide_helper": "subslide_end",
      "slideshow": {
       "slide_type": "slide"
      }
     },
     "source": [
      "The Problem"
     ]
    },
    {
     "cell_type": "markdown",
     "metadata": {
      "internals": {
       "slide_helper": "subslide_end",
       "slide_type": "subslide"
      },
      "slide_helper": "subslide_end",
      "slideshow": {
       "slide_type": "subslide"
      }
     },
     "source": [
      "Even though computers are often considered deterministic, **computational software is a rapidly evolving and changing landscape**. Libraries are constantly adding new features and fixing issues. \n",
      "\n",
      "<img src=\"images/PythonStoryline.svg\" width=700>"
     ]
    },
    {
     "cell_type": "markdown",
     "metadata": {
      "internals": {
       "slide_helper": "subslide_end",
       "slide_type": "subslide"
      },
      "slide_helper": "subslide_end",
      "slideshow": {
       "slide_type": "subslide"
      }
     },
     "source": [
      "Even libraries with the strictest backwards-compatibility policies can **change in significant ways**.\n",
      "\n",
      "<img src=\"images/BackwardsCompatibility.png\" width=\"600px\">"
     ]
    },
    {
     "cell_type": "markdown",
     "metadata": {
      "internals": {
       "slide_helper": "subslide_end",
       "slide_type": "subslide"
      },
      "slide_helper": "subslide_end",
      "slideshow": {
       "slide_type": "subslide"
      }
     },
     "source": [
      "A replicatable computational environment is *sufficiently consistent for the computational task at hand*.\n",
      "\n",
      "For example, this can consist of\n",
      "\n",
      "- a similar CPU instruction set\n",
      "- libraries and executables available with a specific version and configuration options\n",
      "- a specific version of a given compiler\n",
      "- a specific version of a libc implementation\n",
      "- a specific version of the C++ standard library"
     ]
    },
    {
     "cell_type": "heading",
     "level": 2,
     "metadata": {
      "internals": {
       "slide_helper": "subslide_end",
       "slide_type": "subslide"
      },
      "slide_helper": "subslide_end",
      "slideshow": {
       "slide_type": "subslide"
      }
     },
     "source": [
      "Close But Not Good Enough"
     ]
    },
    {
     "cell_type": "markdown",
     "metadata": {
      "internals": {
       "slide_helper": "subslide_end",
       "slide_type": "subslide"
      },
      "slide_helper": "subslide_end",
      "slideshow": {
       "slide_type": "subslide"
      }
     },
     "source": [
      "### Source code\n",
      "\n",
      "Does not include:\n",
      "\n",
      "- Compiler\n",
      "- Hardware it was built on\n",
      "- How it is configured\n",
      "\n",
      "<img src=\"images/ConfusedCat.jpg\" width=\"400px\">"
     ]
    },
    {
     "cell_type": "markdown",
     "metadata": {
      "internals": {
       "slide_helper": "subslide_end",
       "slide_type": "subslide"
      },
      "slide_helper": "subslide_end",
      "slideshow": {
       "slide_type": "subslide"
      }
     },
     "source": [
      "### Package managers and distributions\n",
      "\n",
      "- Packages become unsupported over time\n",
      "- What to do if a required library is not packaged?\n",
      "\n",
      "<img src=\"images/ModulesModulesModules.png\" width=\"500px\">"
     ]
    },
    {
     "cell_type": "markdown",
     "metadata": {
      "internals": {
       "slide_helper": "subslide_end",
       "slide_type": "subslide"
      },
      "slide_helper": "subslide_end",
      "slideshow": {
       "slide_type": "subslide"
      }
     },
     "source": [
      "### Virtual machines (VMs)\n",
      "\n",
      "- Inefficient utilization of computational resources\n",
      "\n",
      "<img src=\"images/CarJam.jpg\">"
     ]
    },
    {
     "cell_type": "markdown",
     "metadata": {
      "internals": {
       "slide_type": "subslide"
      },
      "slideshow": {
       "slide_type": "subslide"
      }
     },
     "source": [
      "# Enter Docker\n",
      "\n",
      "Docker is new type of tool to easily build, ship, and run reproducible, binary applications.\n",
      "\n",
      "![Docker logo](images/DockerLogo.png)\n",
      "\n",
      "In this talk, we will introduce Docker from the perspective a scientific research software engineer.  We will\n"
     ]
    },
    {
     "cell_type": "markdown",
     "metadata": {
      "internals": {
       "frag_number": 10
      },
      "slideshow": {
       "slide_type": "fragment"
      }
     },
     "source": [
      "- Generate an understanding of what Docker is by comparing it to existing technologies."
     ]
    },
    {
     "cell_type": "markdown",
     "metadata": {
      "internals": {
       "frag_helper": "fragment_end",
       "frag_number": 11
      },
      "slideshow": {
       "slide_type": "fragment"
      }
     },
     "source": [
      "- Give an introduction to basic Docker concepts."
     ]
    },
    {
     "cell_type": "markdown",
     "metadata": {
      "internals": {
       "frag_helper": "fragment_end",
       "frag_number": 12,
       "slide_helper": "subslide_end"
      },
      "slide_helper": "slide_end",
      "slideshow": {
       "slide_type": "fragment"
      }
     },
     "source": [
      "- Go through examples that demonstrate when and how it is beneficial to take advantage of this tool."
     ]
    },
    {
     "cell_type": "markdown",
     "metadata": {
      "internals": {
       "frag_helper": "fragment_end",
       "frag_number": 12,
       "slide_helper": "subslide_end",
       "slide_type": "subslide"
      },
      "slide_helper": "subslide_end",
      "slideshow": {
       "slide_type": "slide"
      }
     },
     "source": [
      "# Understanding Docker\n",
      "\n",
      "### Not just this cute whale thing"
     ]
    },
    {
     "cell_type": "markdown",
     "metadata": {
      "internals": {
       "frag_helper": "fragment_end",
       "frag_number": 12,
       "slide_type": "subslide"
      },
      "slideshow": {
       "slide_type": "subslide"
      }
     },
     "source": [
      "Docker is an open-source engine that automates the deployment of any application as a **lightweight**, **portable**, **self-sufficient container** that will run virtually anywhere.\n",
      "\n",
      "\n"
     ]
    },
    {
     "cell_type": "code",
     "collapsed": false,
     "input": [
      "!docker run --rm busybox sh -c 'echo \"Hello Docker World!\"'"
     ],
     "language": "python",
     "metadata": {
      "internals": {
       "frag_helper": "fragment_end",
       "frag_number": 12,
       "slide_helper": "subslide_end"
      },
      "slide_helper": "subslide_end",
      "slideshow": {
       "slide_type": "-"
      }
     },
     "outputs": [
      {
       "output_type": "stream",
       "stream": "stdout",
       "text": [
        "Hello Docker World!\r\n"
       ]
      }
     ],
     "prompt_number": 3
    },
    {
     "cell_type": "markdown",
     "metadata": {
      "internals": {
       "frag_helper": "fragment_end",
       "frag_number": 12,
       "slide_helper": "subslide_end",
       "slide_type": "subslide"
      },
      "slide_helper": "subslide_end",
      "slideshow": {
       "slide_type": "subslide"
      }
     },
     "source": [
      "###Docker is:\n",
      "\n",
      "1. **Secure chroot**\n",
      "2. **Copy on write filesystem**\n",
      "3. **Distributed VCS for binaries**\n",
      "4. **Easy to use interface**"
     ]
    },
    {
     "cell_type": "markdown",
     "metadata": {
      "slideshow": {
       "slide_type": "subslide"
      }
     },
     "source": [
      "##Sandboxed chroot"
     ]
    },
    {
     "cell_type": "markdown",
     "metadata": {
      "internals": {
       "frag_helper": "fragment_end",
       "frag_number": 12,
       "slide_type": "subslide"
      },
      "slideshow": {
       "slide_type": "subslide"
      }
     },
     "source": [
      "Docker works with images that **consume minimal disk space**, **versioned**, **archiveable**, and **shareable**. Executing applications in these images does not require dedicated resources and is **high performance**.\n",
      "\n",
      "It works with **containers** as opposed to **virtual machines** (VM's).\n",
      "\n",
      "<img src=\"images/DockerVM.jpg\" width=\"600\">"
     ]
    },
    {
     "cell_type": "code",
     "collapsed": false,
     "input": [
      "%time !docker run --rm busybox sh -c 'echo \"Hello Docker World!\"'"
     ],
     "language": "python",
     "metadata": {
      "internals": {
       "frag_helper": "fragment_end",
       "frag_number": 12
      },
      "slideshow": {
       "slide_type": "subslide"
      }
     },
     "outputs": [
      {
       "output_type": "stream",
       "stream": "stdout",
       "text": [
        "Hello Docker World!\n",
        "CPU times: user 3 ms, sys: 1 ms, total: 4 ms\n",
        "Wall time: 242 ms\n"
       ]
      }
     ],
     "prompt_number": 4
    },
    {
     "cell_type": "markdown",
     "metadata": {
      "slideshow": {
       "slide_type": "subslide"
      }
     },
     "source": [
      "A Docker container is similar to a running an a *chroot*, but it sandboxes processes and the network stack with Linux kernel\n",
      "\n",
      "* **Namespaces**: isolated processes, networking, messaing, file systems, hostname's\n",
      "* **CGroups**: groups together cpu, memory, and IO resources\n",
      "\n",
      "<img src=\"images/Chroot.png\" width=\"600px\">"
     ]
    },
    {
     "cell_type": "markdown",
     "metadata": {
      "internals": {
       "frag_helper": "fragment_end",
       "frag_number": 12
      },
      "slideshow": {
       "slide_type": "subslide"
      }
     },
     "source": [
      "##Copy on Write Filesystem\n",
      "\n",
      "**Union file systems**, or UnionFS, are file systems that operate by **creating layers**, making them very **lightweight** and **fast**. Docker uses union file systems to provide the building blocks for containers. Docker can make use of several union file system variants including: \n",
      "\n",
      "- AUFS\n",
      "- btrfs\n",
      "- vfs\n",
      "- DeviceMapper\n",
      "\n",
      "<img src=\"images/LayerCake.jpg\" width=\"400px\">"
     ]
    },
    {
     "cell_type": "markdown",
     "metadata": {
      "slideshow": {
       "slide_type": "subslide"
      }
     },
     "source": [
      "### Kernel and root filesystem\n",
      "\n",
      "<img src=\"images/FilesystemsGeneric.png\" width=\"600px\">"
     ]
    },
    {
     "cell_type": "markdown",
     "metadata": {
      "slideshow": {
       "slide_type": "subslide"
      }
     },
     "source": [
      "###Re-usable, shared filesystem layers\n",
      "\n",
      "<img src=\"images/DockerFilesystems.svg\" width=500>"
     ]
    },
    {
     "cell_type": "markdown",
     "metadata": {
      "internals": {
       "frag_helper": "fragment_end",
       "frag_number": 12
      },
      "slideshow": {
       "slide_type": "-"
      }
     },
     "source": [
      "Installing\n",
      "\n",
      "Linux kernel with control groups and namespaces\n",
      "LXC\n",
      "Union File System\n",
      "Docker Daemon / Server"
     ]
    },
    {
     "cell_type": "markdown",
     "metadata": {
      "internals": {
       "frag_helper": "fragment_end",
       "frag_number": 12
      },
      "slideshow": {
       "slide_type": "-"
      }
     },
     "source": [
      "Linux\n",
      "\n",
      "Ubuntu 14.04\n",
      "See Docker installation instructions for distributions with Kernel 3.8 + later\n",
      "Kernel configuration instructions"
     ]
    },
    {
     "cell_type": "markdown",
     "metadata": {
      "internals": {
       "frag_helper": "fragment_end",
       "frag_number": 12,
       "slide_helper": "subslide_end"
      },
      "slide_helper": "slide_end",
      "slideshow": {
       "slide_type": "-"
      }
     },
     "source": [
      "Windows and Mac\n",
      "\n",
      "boot2docker\n",
      "\n",
      "* easy install of\n",
      "** Git Bash\n",
      "** VirtualBox\n",
      "** Lightweight Linux distribution\n",
      "** Docker\n",
      "\n",
      "* Works, but adds layer of complexity\n",
      "* Mac native interface improving\n",
      "* Comes with busybox shell -> Write your Docker build.sh and run.sh in Bourne shell"
     ]
    },
    {
     "cell_type": "markdown",
     "metadata": {
      "internals": {
       "frag_helper": "fragment_end",
       "frag_number": 12,
       "slide_helper": "subslide_end",
       "slide_type": "subslide"
      },
      "slide_helper": "subslide_end",
      "slideshow": {
       "slide_type": "slide"
      }
     },
     "source": [
      "# Docker Concepts"
     ]
    },
    {
     "cell_type": "markdown",
     "metadata": {
      "internals": {
       "frag_helper": "fragment_end",
       "frag_number": 12,
       "slide_helper": "subslide_end",
       "slide_type": "subslide"
      },
      "slide_helper": "slide_end",
      "slideshow": {
       "slide_type": "subslide"
      }
     },
     "source": [
      "In the `docker/src/itkka` directory is an example Docker image, also [available](https://registry.hub.docker.com/u/thewtex/itkka/) on [DockerHub](https://hub.docker.com/) for reproducing [an article on PET image series kinetic analysis]( http://hdl.handle.net/10380/3469).\n",
      "\n",
      "The requirements for reproducing this computational analysis, the Ubuntu 14.04 operating system, the GCC 4.8.2-19ubuntu1 compiler, and particular versions of the dependencies the Insight Toolkit (ITK), libxml, sundials, and Boost, are now runnable on any x86_64 operating system, archiveable, and shareable.\n",
      "\n",
      "<img src=\"images/itkka.jpg\">"
     ]
    },
    {
     "cell_type": "markdown",
     "metadata": {
      "internals": {
       "frag_helper": "fragment_end",
       "frag_number": 12,
       "slide_helper": "subslide_end",
       "slide_type": "subslide"
      },
      "slide_helper": "slide_end",
      "slideshow": {
       "slide_type": "slide"
      }
     },
     "source": [
      "# Example Applications"
     ]
    },
    {
     "cell_type": "markdown",
     "metadata": {
      "internals": {
       "frag_helper": "fragment_end",
       "frag_number": 12,
       "slide_helper": "subslide_end",
       "slide_type": "subslide"
      },
      "slide_helper": "subslide_end",
      "slideshow": {
       "slide_type": "slide"
      }
     },
     "source": [
      "# Recap and Next Steps"
     ]
    },
    {
     "cell_type": "markdown",
     "metadata": {
      "internals": {
       "frag_helper": "fragment_end",
       "frag_number": 12,
       "slide_type": "subslide"
      },
      "slideshow": {
       "slide_type": "subslide"
      }
     },
     "source": [
      "## Docker is\n"
     ]
    },
    {
     "cell_type": "markdown",
     "metadata": {
      "internals": {
       "frag_helper": "fragment_end",
       "frag_number": 28
      },
      "slideshow": {
       "slide_type": "fragment"
      }
     },
     "source": [
      "* Secure chroot +"
     ]
    },
    {
     "cell_type": "markdown",
     "metadata": {
      "internals": {
       "frag_helper": "fragment_end",
       "frag_number": 29
      },
      "slideshow": {
       "slide_type": "fragment"
      }
     },
     "source": [
      "* Incremental, copy on write filesystem +"
     ]
    },
    {
     "cell_type": "markdown",
     "metadata": {
      "internals": {
       "frag_helper": "fragment_end",
       "frag_number": 30
      },
      "slideshow": {
       "slide_type": "fragment"
      }
     },
     "source": [
      "* Distributed VCS for binaries"
     ]
    },
    {
     "cell_type": "markdown",
     "metadata": {
      "internals": {
       "frag_helper": "fragment_end",
       "frag_number": 30,
       "slide_helper": "subslide_end"
      },
      "slide_helper": "subslide_end",
      "slideshow": {
       "slide_type": "-"
      }
     },
     "source": [
      "* Easy to use interface"
     ]
    },
    {
     "cell_type": "markdown",
     "metadata": {
      "internals": {
       "frag_helper": "fragment_end",
       "frag_number": 30,
       "slide_type": "subslide"
      },
      "slideshow": {
       "slide_type": "subslide"
      }
     },
     "source": [
      "## Concepts"
     ]
    },
    {
     "cell_type": "markdown",
     "metadata": {
      "internals": {
       "frag_helper": "fragment_end",
       "frag_number": 33
      },
      "slideshow": {
       "slide_type": "fragment"
      }
     },
     "source": [
      "* *Image*:  A read-only file system layer"
     ]
    },
    {
     "cell_type": "markdown",
     "metadata": {
      "internals": {
       "frag_helper": "fragment_end",
       "frag_number": 34
      },
      "slideshow": {
       "slide_type": "fragment"
      }
     },
     "source": [
      "* *Container*: An image with processes running in memory, or an exited container with a modified filesystem"
     ]
    },
    {
     "cell_type": "markdown",
     "metadata": {
      "internals": {
       "frag_helper": "fragment_end",
       "frag_number": 35
      },
      "slideshow": {
       "slide_type": "fragment"
      }
     },
     "source": [
      "* *Volume*: A mounted directory that is not tracked as a filesystem layer"
     ]
    },
    {
     "cell_type": "markdown",
     "metadata": {
      "internals": {
       "frag_helper": "fragment_end",
       "frag_number": 36
      },
      "slideshow": {
       "slide_type": "fragment"
      }
     },
     "source": [
      "* *Dockerfile*: A sequence of instructions to generate a Docker image"
     ]
    },
    {
     "cell_type": "markdown",
     "metadata": {
      "internals": {
       "frag_helper": "fragment_end",
       "frag_number": 37,
       "slide_helper": "subslide_end"
      },
      "slide_helper": "subslide_end",
      "slideshow": {
       "slide_type": "fragment"
      }
     },
     "source": [
      "* *DockerHub*: A GitHub like registry of Docker images"
     ]
    },
    {
     "cell_type": "markdown",
     "metadata": {
      "internals": {
       "frag_helper": "fragment_end",
       "frag_number": 37,
       "slide_type": "subslide"
      },
      "slideshow": {
       "slide_type": "subslide"
      }
     },
     "source": [
      "## Applications"
     ]
    },
    {
     "cell_type": "markdown",
     "metadata": {
      "internals": {
       "frag_helper": "fragment_end",
       "frag_number": 39
      },
      "slideshow": {
       "slide_type": "fragment"
      }
     },
     "source": [
      "1. Reproducible computational environment"
     ]
    },
    {
     "cell_type": "markdown",
     "metadata": {
      "internals": {
       "frag_helper": "fragment_end",
       "frag_number": 40
      },
      "slideshow": {
       "slide_type": "fragment"
      }
     },
     "source": [
      "2. Run exotic applications in sandbox"
     ]
    },
    {
     "cell_type": "markdown",
     "metadata": {
      "internals": {
       "frag_helper": "fragment_end",
       "frag_number": 41,
       "slide_helper": "subslide_end"
      },
      "slide_helper": "subslide_end",
      "slideshow": {
       "slide_type": "fragment"
      }
     },
     "source": [
      "3. Webapp development and deployment"
     ]
    },
    {
     "cell_type": "heading",
     "level": 2,
     "metadata": {
      "internals": {
       "frag_helper": "fragment_end",
       "frag_number": 41,
       "slide_type": "subslide"
      },
      "slideshow": {
       "slide_type": "subslide"
      }
     },
     "source": [
      "Learn more!"
     ]
    },
    {
     "cell_type": "markdown",
     "metadata": {
      "internals": {
       "frag_helper": "fragment_end",
       "frag_number": 43
      },
      "slideshow": {
       "slide_type": "fragment"
      }
     },
     "source": [
      "* [Interactive Brower-Based Docker Tutorial](https://www.docker.com/tryit/)\n",
      "* [Docker Documentation](https://docs.docker.com/userguide/)\n",
      "* [Reproducible Research: Walking the Walk Tutorial](https://reproducible-research.github.io/scipy-tutorial-2014/)\n",
      "* [IPython DockerHub Repositories](https://registry.hub.docker.com/repos/ipython/)"
     ]
    },
    {
     "cell_type": "markdown",
     "metadata": {},
     "source": [
      "##Docker vs. LXC\n",
      "\n",
      "* LXC is a set of tools and API to interact with Linux kernel namespaces, cgroups, etc.\n",
      "* LXC used to be the default execution enviroment for Docker\n",
      "* Docker provides LXC function, plus:\n",
      "  - Portable deployment across machines\n",
      "  - Application-centric\n",
      "  - Automatic builds\n",
      "  - Versioning\n",
      "  - Component re-use\n",
      "  - Sharing\n",
      "  - Tool echosystem"
     ]
    },
    {
     "cell_type": "markdown",
     "metadata": {},
     "source": [
      "##Docker vs Rocket\n",
      "\n",
      "- Rocket is a container system like Docker developed by CoreOS\n",
      "- Rocket is not yet fully operational\n",
      "- Rocket does not use a daemon/client system"
     ]
    }
   ],
   "metadata": {}
  }
 ]
}