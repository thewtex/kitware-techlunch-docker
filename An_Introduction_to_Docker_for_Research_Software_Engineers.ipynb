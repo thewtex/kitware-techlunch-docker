{
 "metadata": {
  "celltoolbar": "Slideshow",
  "kernelspec": {
   "codemirror_mode": {
    "name": "ipython",
    "version": 3
   },
   "display_name": "IPython (Python 3)",
   "language": "python",
   "name": "python3"
  },
  "name": "",
  "signature": "sha256:42edbb526c59d9a1e4a7ffb5cce40f821adb2d16db8b47fad3477a14ec63af17"
 },
 "nbformat": 3,
 "nbformat_minor": 0,
 "worksheets": [
  {
   "cells": [
    {
     "cell_type": "markdown",
     "metadata": {
      "internals": {
       "slide_helper": "subslide_end",
       "slide_type": "subslide"
      },
      "slide_helper": "slide_end",
      "slideshow": {
       "slide_type": "slide"
      }
     },
     "source": [
      "# Docker: An Introduction for Research Software Engineers\n",
      "\n",
      "#### Matt McCormick, Kitware, Inc\n",
      "#### Kitware Tech Lunch, 2015-02-10"
     ]
    },
    {
     "cell_type": "heading",
     "level": 1,
     "metadata": {
      "internals": {
       "slide_helper": "subslide_end",
       "slide_type": "subslide"
      },
      "slide_helper": "subslide_end",
      "slideshow": {
       "slide_type": "slide"
      }
     },
     "source": [
      "The Problem"
     ]
    },
    {
     "cell_type": "markdown",
     "metadata": {
      "internals": {
       "slide_helper": "subslide_end",
       "slide_type": "subslide"
      },
      "slide_helper": "subslide_end",
      "slideshow": {
       "slide_type": "subslide"
      }
     },
     "source": [
      "Even though computers are often considered deterministic, **computational software is a rapidly evolving and changing landscape**. Libraries are constantly adding new features and fixing issues. \n",
      "\n",
      "<img src=\"images/PythonStoryline.svg\" width=700>"
     ]
    },
    {
     "cell_type": "markdown",
     "metadata": {
      "internals": {
       "slide_helper": "subslide_end",
       "slide_type": "subslide"
      },
      "slide_helper": "subslide_end",
      "slideshow": {
       "slide_type": "subslide"
      }
     },
     "source": [
      "Even libraries with the strictest backwards-compatibility policies can **change in significant ways**.\n",
      "\n",
      "<img src=\"images/BackwardsCompatibility.png\" width=\"600px\">"
     ]
    },
    {
     "cell_type": "markdown",
     "metadata": {
      "internals": {
       "slide_helper": "subslide_end",
       "slide_type": "subslide"
      },
      "slide_helper": "subslide_end",
      "slideshow": {
       "slide_type": "subslide"
      }
     },
     "source": [
      "A **reproducible computational environment** is *sufficiently consistent for the computational task at hand*.\n",
      "\n",
      "For example, this can consist of\n",
      "\n",
      "- a similar CPU instruction set\n",
      "- libraries and executables available with a specific version and configuration options\n",
      "- a specific version of a given compiler\n",
      "- a specific version of a libc implementation\n",
      "- a specific version of the C++ standard library"
     ]
    },
    {
     "cell_type": "heading",
     "level": 2,
     "metadata": {
      "internals": {
       "slide_helper": "subslide_end",
       "slide_type": "subslide"
      },
      "slide_helper": "subslide_end",
      "slideshow": {
       "slide_type": "subslide"
      }
     },
     "source": [
      "Close But Not Good Enough"
     ]
    },
    {
     "cell_type": "markdown",
     "metadata": {
      "internals": {
       "slide_helper": "subslide_end",
       "slide_type": "subslide"
      },
      "slide_helper": "subslide_end",
      "slideshow": {
       "slide_type": "subslide"
      }
     },
     "source": [
      "### Source code\n",
      "\n",
      "Does not include:\n",
      "\n",
      "- Compiler\n",
      "- Hardware it was built on\n",
      "- How it is configured\n",
      "\n",
      "<img src=\"images/ConfusedCat.jpg\" width=\"400px\">"
     ]
    },
    {
     "cell_type": "markdown",
     "metadata": {
      "internals": {
       "slide_helper": "subslide_end",
       "slide_type": "subslide"
      },
      "slide_helper": "subslide_end",
      "slideshow": {
       "slide_type": "subslide"
      }
     },
     "source": [
      "### Package managers and distributions\n",
      "\n",
      "- Packages become unsupported over time\n",
      "- What to do if a required library is not packaged?\n",
      "\n",
      "<img src=\"images/ModulesModulesModules.png\" width=\"500px\">"
     ]
    },
    {
     "cell_type": "markdown",
     "metadata": {
      "internals": {
       "slide_helper": "subslide_end",
       "slide_type": "subslide"
      },
      "slide_helper": "subslide_end",
      "slideshow": {
       "slide_type": "subslide"
      }
     },
     "source": [
      "### Virtual machines (VMs)\n",
      "\n",
      "- Inefficient utilization of computational resources\n",
      "\n",
      "<img src=\"images/CarJam.jpg\">"
     ]
    },
    {
     "cell_type": "markdown",
     "metadata": {
      "internals": {
       "slide_type": "subslide"
      },
      "slideshow": {
       "slide_type": "subslide"
      }
     },
     "source": [
      "# Enter Docker\n",
      "\n",
      "Docker is new type of tool to easily build, ship, and run reproducible, binary applications.  \"Good enough.\"\n",
      "\n",
      "![Docker logo](images/DockerLogo.png)\n",
      "\n",
      "In this talk, we will introduce Docker from the perspective a scientific research software engineer.  We will\n"
     ]
    },
    {
     "cell_type": "markdown",
     "metadata": {
      "internals": {
       "frag_number": 10
      },
      "slideshow": {
       "slide_type": "fragment"
      }
     },
     "source": [
      "- Generate an understanding of what Docker is by comparing it to existing technologies."
     ]
    },
    {
     "cell_type": "markdown",
     "metadata": {
      "internals": {
       "frag_helper": "fragment_end",
       "frag_number": 11
      },
      "slideshow": {
       "slide_type": "fragment"
      }
     },
     "source": [
      "- Give an introduction to basic Docker concepts."
     ]
    },
    {
     "cell_type": "markdown",
     "metadata": {
      "internals": {
       "frag_helper": "fragment_end",
       "frag_number": 12,
       "slide_helper": "subslide_end"
      },
      "slide_helper": "slide_end",
      "slideshow": {
       "slide_type": "fragment"
      }
     },
     "source": [
      "- Go through examples that demonstrate when and how it is beneficial to take advantage of this tool."
     ]
    },
    {
     "cell_type": "markdown",
     "metadata": {
      "internals": {
       "frag_helper": "fragment_end",
       "frag_number": 12,
       "slide_helper": "subslide_end",
       "slide_type": "subslide"
      },
      "slide_helper": "subslide_end",
      "slideshow": {
       "slide_type": "slide"
      }
     },
     "source": [
      "# Understanding Docker\n",
      "\n",
      "### Not just this cute whale thing"
     ]
    },
    {
     "cell_type": "markdown",
     "metadata": {
      "internals": {
       "frag_helper": "fragment_end",
       "frag_number": 12,
       "slide_type": "subslide"
      },
      "slideshow": {
       "slide_type": "subslide"
      }
     },
     "source": [
      "Docker is an open-source engine that automates the deployment of any application as a **lightweight**, **portable**, **self-sufficient container** that will run virtually anywhere.\n",
      "\n",
      "\n"
     ]
    },
    {
     "cell_type": "code",
     "collapsed": false,
     "input": [
      "!docker run --rm busybox sh -c 'echo \"Hello Docker World!\"'"
     ],
     "language": "python",
     "metadata": {
      "internals": {
       "frag_helper": "fragment_end",
       "frag_number": 12,
       "slide_helper": "subslide_end"
      },
      "slide_helper": "subslide_end",
      "slideshow": {
       "slide_type": "-"
      }
     },
     "outputs": [
      {
       "output_type": "stream",
       "stream": "stdout",
       "text": [
        "Hello Docker World!\r\n"
       ]
      }
     ],
     "prompt_number": 3
    },
    {
     "cell_type": "markdown",
     "metadata": {
      "internals": {
       "frag_helper": "fragment_end",
       "frag_number": 12,
       "slide_helper": "subslide_end",
       "slide_type": "subslide"
      },
      "slide_helper": "subslide_end",
      "slideshow": {
       "slide_type": "subslide"
      }
     },
     "source": [
      "###Docker is:\n",
      "\n",
      "1. **Secure chroot**\n",
      "2. **Copy on write filesystem**\n",
      "3. **Distributed VCS for binaries**\n",
      "4. **Easy to use interface**"
     ]
    },
    {
     "cell_type": "markdown",
     "metadata": {
      "internals": {
       "frag_helper": "fragment_end",
       "frag_number": 12,
       "slide_helper": "subslide_end",
       "slide_type": "subslide"
      },
      "slide_helper": "subslide_end",
      "slideshow": {
       "slide_type": "subslide"
      }
     },
     "source": [
      "##Sandboxed chroot"
     ]
    },
    {
     "cell_type": "markdown",
     "metadata": {
      "internals": {
       "frag_helper": "fragment_end",
       "frag_number": 12,
       "slide_helper": "subslide_end",
       "slide_type": "subslide"
      },
      "slide_helper": "subslide_end",
      "slideshow": {
       "slide_type": "subslide"
      }
     },
     "source": [
      "Docker works with images that **consume minimal disk space**, **versioned**, **archiveable**, and **shareable**. Executing applications in these images does not require dedicated resources and is **high performance**.\n",
      "\n",
      "It works with **containers** as opposed to **virtual machines** (VM's).\n",
      "\n",
      "<img src=\"images/DockerVM.jpg\" width=\"600\">"
     ]
    },
    {
     "cell_type": "code",
     "collapsed": false,
     "input": [
      "%time !docker run --rm busybox sh -c 'echo \"Hello Docker World!\"'"
     ],
     "language": "python",
     "metadata": {
      "internals": {
       "frag_helper": "fragment_end",
       "frag_number": 12,
       "slide_helper": "subslide_end",
       "slide_type": "subslide"
      },
      "slide_helper": "subslide_end",
      "slideshow": {
       "slide_type": "subslide"
      }
     },
     "outputs": [
      {
       "output_type": "stream",
       "stream": "stdout",
       "text": [
        "Hello Docker World!\n",
        "CPU times: user 3 ms, sys: 1 ms, total: 4 ms\n",
        "Wall time: 242 ms\n"
       ]
      }
     ],
     "prompt_number": 4
    },
    {
     "cell_type": "markdown",
     "metadata": {
      "internals": {
       "frag_helper": "fragment_end",
       "frag_number": 12,
       "slide_helper": "subslide_end",
       "slide_type": "subslide"
      },
      "slide_helper": "subslide_end",
      "slideshow": {
       "slide_type": "subslide"
      }
     },
     "source": [
      "A Docker container is similar to a running an a *chroot*, but it sandboxes processes and the network stack with Linux kernel\n",
      "\n",
      "* **Namespaces**: isolated processes, networking, messaing, file systems, hostname's\n",
      "* **CGroups**: groups together cpu, memory, and IO resources\n",
      "\n",
      "<img src=\"images/Chroot.png\" width=\"600px\">"
     ]
    },
    {
     "cell_type": "markdown",
     "metadata": {
      "internals": {
       "frag_helper": "fragment_end",
       "frag_number": 12,
       "slide_helper": "subslide_end",
       "slide_type": "subslide"
      },
      "slide_helper": "subslide_end",
      "slideshow": {
       "slide_type": "subslide"
      }
     },
     "source": [
      "##Copy on Write Filesystem\n",
      "\n",
      "**Union file systems**, or UnionFS, are file systems that operate by **creating layers**, making them very **lightweight** and **fast**. Docker uses union file systems to provide the building blocks for containers. Docker can make use of several union file system variants including: \n",
      "\n",
      "- AUFS\n",
      "- btrfs\n",
      "- vfs\n",
      "- DeviceMapper\n",
      "\n",
      "<img src=\"images/LayerCake.jpg\" width=\"400px\">"
     ]
    },
    {
     "cell_type": "markdown",
     "metadata": {
      "internals": {
       "frag_helper": "fragment_end",
       "frag_number": 12,
       "slide_helper": "subslide_end",
       "slide_type": "subslide"
      },
      "slide_helper": "subslide_end",
      "slideshow": {
       "slide_type": "subslide"
      }
     },
     "source": [
      "### Kernel and root filesystem\n",
      "\n",
      "<img src=\"images/FilesystemsGeneric.png\" width=\"600px\">"
     ]
    },
    {
     "cell_type": "markdown",
     "metadata": {
      "internals": {
       "frag_helper": "fragment_end",
       "frag_number": 12,
       "slide_helper": "subslide_end",
       "slide_type": "subslide"
      },
      "slide_helper": "subslide_end",
      "slideshow": {
       "slide_type": "subslide"
      }
     },
     "source": [
      "###Re-usable, shared filesystem layers\n",
      "\n",
      "<img src=\"images/DockerFilesystems.svg\" width=500>"
     ]
    },
    {
     "cell_type": "markdown",
     "metadata": {
      "internals": {
       "frag_helper": "fragment_end",
       "frag_number": 12,
       "slide_type": "subslide"
      },
      "slideshow": {
       "slide_type": "subslide"
      }
     },
     "source": [
      "##Distributed VCS for binaries\n",
      "\n",
      "### Docker is like Git for binaries\n",
      "\n"
     ]
    },
    {
     "cell_type": "markdown",
     "metadata": {
      "internals": {
       "frag_helper": "fragment_end",
       "frag_number": 12,
       "slide_helper": "subslide_end"
      },
      "slide_helper": "subslide_end",
      "slideshow": {
       "slide_type": "notes"
      }
     },
     "source": [
      "###DockerHub is like GitHub\n",
      "\n",
      "<img src=\"images/DockerHub.png\" width=\"700px\">"
     ]
    },
    {
     "cell_type": "code",
     "collapsed": false,
     "input": [
      "!docker search itk"
     ],
     "language": "python",
     "metadata": {
      "internals": {
       "frag_helper": "fragment_end",
       "frag_number": 12,
       "slide_helper": "subslide_end",
       "slide_type": "subslide"
      },
      "slide_helper": "subslide_end",
      "slideshow": {
       "slide_type": "subslide"
      }
     },
     "outputs": [
      {
       "output_type": "stream",
       "stream": "stdout",
       "text": [
        "NAME                                        DESCRIPTION                                     STARS     OFFICIAL   AUTOMATED\r\n",
        "tedwang/aosp-v4                             Build environment for Android Open Source ...   2                    [OK]\r\n",
        "orobix/itk_image                            Ubuntu 12.04 (precise) 64 bit image with g...   1                    \r\n",
        "insighttoolkit/itk-bin                                                                      0                    [OK]\r\n",
        "insighttoolkit/itk-data                                                                     0                    [OK]\r\n",
        "insighttoolkit/itk-bin-examples                                                             0                    [OK]\r\n",
        "insighttoolkit/itk-bin-testing                                                              0                    [OK]\r\n",
        "insighttoolkit/itk-dashboard                                                                0                    [OK]\r\n",
        "insighttoolkit/itksoftwareguide-base                                                        0                    [OK]\r\n",
        "insighttoolkit/itksoftwareguide-dashboard                                                   0                    [OK]\r\n",
        "insighttoolkit/itksoftwareguide-src                                                         0                    [OK]\r\n",
        "insighttoolkit/itksoftwareguide-bin                                                         0                    [OK]\r\n",
        "insighttoolkit/itksoftwareguide-edit                                                        0                    [OK]\r\n",
        "thewtex/itkka                                                                               0                    \r\n",
        "avalawn/docker-httpd.itk                                                                    0                    [OK]\r\n",
        "ankitkumar2711/dockerwebapp                                                                 0                    [OK]\r\n",
        "insighttoolkit/itk-base                                                                     0                    [OK]\r\n",
        "insighttoolkit/itk-src                                                                      0                    [OK]\r\n"
       ]
      }
     ],
     "prompt_number": 7
    },
    {
     "cell_type": "markdown",
     "metadata": {
      "internals": {
       "frag_helper": "fragment_end",
       "frag_number": 12,
       "slide_helper": "subslide_end",
       "slide_type": "subslide"
      },
      "slide_helper": "subslide_end",
      "slideshow": {
       "slide_type": "subslide"
      }
     },
     "source": [
      "### Docker is like Git, since\n",
      "\n",
      "- Docker images are identified with hex string or tags\n",
      "- Interface is `docker <subcommand>`\n",
      "- `docker push`, `docker pull`, `docker tag`\n",
      "- `docker export` will create a archiveable tarball of an image's filesystem. "
     ]
    },
    {
     "cell_type": "markdown",
     "metadata": {
      "internals": {
       "frag_helper": "fragment_end",
       "frag_number": 12,
       "slide_helper": "subslide_end",
       "slide_type": "subslide"
      },
      "slide_helper": "subslide_end",
      "slideshow": {
       "slide_type": "subslide"
      }
     },
     "source": [
      "##Easy to use interface"
     ]
    },
    {
     "cell_type": "code",
     "collapsed": false,
     "input": [
      "!docker --help"
     ],
     "language": "python",
     "metadata": {
      "internals": {
       "frag_helper": "fragment_end",
       "frag_number": 12,
       "slide_helper": "subslide_end",
       "slide_type": "subslide"
      },
      "slide_helper": "subslide_end",
      "slideshow": {
       "slide_type": "subslide"
      }
     },
     "outputs": [
      {
       "output_type": "stream",
       "stream": "stdout",
       "text": [
        "Usage: docker [OPTIONS] COMMAND [arg...]\r\n",
        "\r\n",
        "A self-sufficient runtime for linux containers.\r\n",
        "\r\n",
        "Options:\r\n",
        "  --api-enable-cors=false                Enable CORS headers in the remote API\r\n",
        "  -b, --bridge=\"\"                        Attach containers to a pre-existing network bridge\r\n",
        "                                           use 'none' to disable container networking\r\n",
        "  --bip=\"\"                               Use this CIDR notation address for the network bridge's IP, not compatible with -b\r\n",
        "  -D, --debug=false                      Enable debug mode\r\n",
        "  -d, --daemon=false                     Enable daemon mode\r\n",
        "  --dns=[]                               Force Docker to use specific DNS servers\r\n",
        "  --dns-search=[]                        Force Docker to use specific DNS search domains\r\n",
        "  -e, --exec-driver=\"native\"             Force the Docker runtime to use a specific exec driver\r\n",
        "  --fixed-cidr=\"\"                        IPv4 subnet for fixed IPs (ex: 10.20.0.0/16)\r\n",
        "                                           this subnet must be nested in the bridge subnet (which is defined by -b or --bip)\r\n",
        "  -G, --group=\"docker\"                   Group to assign the unix socket specified by -H when running in daemon mode\r\n",
        "                                           use '' (the empty string) to disable setting of a group\r\n",
        "  -g, --graph=\"/var/lib/docker\"          Path to use as the root of the Docker runtime\r\n",
        "  -H, --host=[]                          The socket(s) to bind to in daemon mode or connect to in client mode, specified using one or more tcp://host:port, unix:///path/to/socket, fd://* or fd://socketfd.\r\n",
        "  --icc=true                             Allow unrestricted inter-container and Docker daemon host communication\r\n",
        "  --insecure-registry=[]                 Enable insecure communication with specified registries (no certificate verification for HTTPS and enable HTTP fallback) (e.g., localhost:5000 or 10.20.0.0/16)\r\n",
        "  --ip=0.0.0.0                           Default IP address to use when binding container ports\r\n",
        "  --ip-forward=true                      Enable net.ipv4.ip_forward\r\n",
        "  --ip-masq=true                         Enable IP masquerading for bridge's IP range\r\n",
        "  --iptables=true                        Enable Docker's addition of iptables rules\r\n",
        "  -l, --log-level=\"info\"                 Set the logging level\r\n",
        "  --label=[]                             Set key=value labels to the daemon (displayed in `docker info`)\r\n",
        "  --mtu=0                                Set the containers network MTU\r\n",
        "                                           if no value is provided: default to the default route MTU or 1500 if no default route is available\r\n",
        "  -p, --pidfile=\"/var/run/docker.pid\"    Path to use for daemon PID file\r\n",
        "  --registry-mirror=[]                   Specify a preferred Docker registry mirror\r\n",
        "  -s, --storage-driver=\"\"                Force the Docker runtime to use a specific storage driver\r\n",
        "  --selinux-enabled=false                Enable selinux support. SELinux does not presently support the BTRFS storage driver\r\n",
        "  --storage-opt=[]                       Set storage driver options\r\n",
        "  --tls=false                            Use TLS; implied by --tlsverify flag\r\n",
        "  --tlscacert=\"/root/.docker/ca.pem\"     Trust only remotes providing a certificate signed by the CA given here\r\n",
        "  --tlscert=\"/root/.docker/cert.pem\"     Path to TLS certificate file\r\n",
        "  --tlskey=\"/root/.docker/key.pem\"       Path to TLS key file\r\n",
        "  --tlsverify=false                      Use TLS and verify the remote (daemon: verify client, client: verify daemon)\r\n",
        "  -v, --version=false                    Print version information and quit\r\n",
        "\r\n",
        "Commands:\r\n",
        "    attach    Attach to a running container\r\n",
        "    build     Build an image from a Dockerfile\r\n",
        "    commit    Create a new image from a container's changes\r\n",
        "    cp        Copy files/folders from a container's filesystem to the host path\r\n",
        "    create    Create a new container\r\n",
        "    diff      Inspect changes on a container's filesystem\r\n",
        "    events    Get real time events from the server\r\n",
        "    exec      Run a command in a running container\r\n",
        "    export    Stream the contents of a container as a tar archive\r\n",
        "    history   Show the history of an image\r\n",
        "    images    List images\r\n",
        "    import    Create a new filesystem image from the contents of a tarball\r\n",
        "    info      Display system-wide information\r\n",
        "    inspect   Return low-level information on a container\r\n",
        "    kill      Kill a running container\r\n",
        "    load      Load an image from a tar archive\r\n",
        "    login     Register or log in to a Docker registry server\r\n",
        "    logout    Log out from a Docker registry server\r\n",
        "    logs      Fetch the logs of a container\r\n",
        "    port      Lookup the public-facing port that is NAT-ed to PRIVATE_PORT\r\n",
        "    pause     Pause all processes within a container\r\n",
        "    ps        List containers\r\n",
        "    pull      Pull an image or a repository from a Docker registry server\r\n",
        "    push      Push an image or a repository to a Docker registry server\r\n",
        "    restart   Restart a running container\r\n",
        "    rm        Remove one or more containers\r\n",
        "    rmi       Remove one or more images\r\n",
        "    run       Run a command in a new container\r\n",
        "    save      Save an image to a tar archive\r\n",
        "    search    Search for an image on the Docker Hub\r\n",
        "    start     Start a stopped container\r\n",
        "    stop      Stop a running container\r\n",
        "    tag       Tag an image into a repository\r\n",
        "    top       Lookup the running processes of a container\r\n",
        "    unpause   Unpause a paused container\r\n",
        "    version   Show the Docker version information\r\n",
        "    wait      Block until a container stops, then print its exit code\r\n",
        "\r\n",
        "Run 'docker COMMAND --help' for more information on a command.\r\n"
       ]
      }
     ],
     "prompt_number": 10
    },
    {
     "cell_type": "code",
     "collapsed": false,
     "input": [
      "!docker cp --help"
     ],
     "language": "python",
     "metadata": {
      "internals": {
       "frag_helper": "fragment_end",
       "frag_number": 12,
       "slide_helper": "subslide_end",
       "slide_type": "subslide"
      },
      "slide_helper": "subslide_end",
      "slideshow": {
       "slide_type": "subslide"
      }
     },
     "outputs": [
      {
       "output_type": "stream",
       "stream": "stdout",
       "text": [
        "\r\n",
        "Usage: docker cp CONTAINER:PATH HOSTPATH\r\n",
        "\r\n",
        "Copy files/folders from the PATH to the HOSTPATH\r\n",
        "\r\n"
       ]
      }
     ],
     "prompt_number": 14
    },
    {
     "cell_type": "markdown",
     "metadata": {
      "internals": {
       "frag_helper": "fragment_end",
       "frag_number": 12,
       "slide_type": "subslide"
      },
      "slideshow": {
       "slide_type": "subslide"
      }
     },
     "source": [
      "###Installing\n",
      "\n",
      "Here's what you need:\n",
      "\n",
      "- Linux kernel with control groups and namespaces\n",
      "- Another Union File System\n",
      "- Docker Daemon / Server\n",
      "\n",
      "<img src=\"images/MasonJar.jpg\" width=\"600px\">"
     ]
    },
    {
     "cell_type": "markdown",
     "metadata": {
      "internals": {
       "frag_helper": "fragment_end",
       "frag_number": 32
      },
      "slideshow": {
       "slide_type": "subslide"
      }
     },
     "source": [
      "####Linux\n",
      "\n",
      "- Ubuntu 14.04\n",
      "- See [Docker installation instructions](http://docs.docker.com/installation/) for distributions with Kernel 3.8 + later\n",
      "- [Kernel configuration instructions](https://wiki.gentoo.org/wiki/LXC)"
     ]
    },
    {
     "cell_type": "markdown",
     "metadata": {
      "internals": {
       "frag_helper": "fragment_end",
       "frag_number": 33,
       "slide_helper": "subslide_end"
      },
      "slide_helper": "slide_end",
      "slideshow": {
       "slide_type": "fragment"
      }
     },
     "source": [
      "####Windows and Mac\n",
      "\n",
      "[boot2docker](http://boot2docker.io/)\n",
      "\n",
      "* easy install of\n",
      "** Git Bash\n",
      "** VirtualBox\n",
      "** Lightweight Linux distribution\n",
      "** Docker\n",
      "\n",
      "* Works, but adds layer of complexity\n",
      "* Mac native interface improving\n",
      "* Comes with busybox shell -> Write your Docker build.sh and run.sh in Bourne shell"
     ]
    },
    {
     "cell_type": "markdown",
     "metadata": {
      "internals": {
       "frag_helper": "fragment_end",
       "frag_number": 33,
       "slide_helper": "subslide_end",
       "slide_type": "subslide"
      },
      "slide_helper": "subslide_end",
      "slideshow": {
       "slide_type": "slide"
      }
     },
     "source": [
      "# Docker Concepts"
     ]
    },
    {
     "cell_type": "markdown",
     "metadata": {
      "slideshow": {
       "slide_type": "subslide"
      }
     },
     "source": [
      "##Image\n",
      " \n",
      "###A read-only file system layer"
     ]
    },
    {
     "cell_type": "markdown",
     "metadata": {
      "slideshow": {
       "slide_type": "fragment"
      }
     },
     "source": [
      "<img src=\"images/DockerFilesystemsBusybox.png\" width=\"600px\">"
     ]
    },
    {
     "cell_type": "code",
     "collapsed": false,
     "input": [
      "!docker images"
     ],
     "language": "python",
     "metadata": {
      "slideshow": {
       "slide_type": "subslide"
      }
     },
     "outputs": [
      {
       "output_type": "stream",
       "stream": "stdout",
       "text": [
        "REPOSITORY          TAG                 IMAGE ID            CREATED             VIRTUAL SIZE\r\n",
        "ubuntu              14.04               5ba9dab47459        12 days ago         188.3 MB\r\n",
        "busybox             latest              4986bf8c1536        5 weeks ago         2.433 MB\r\n"
       ]
      }
     ],
     "prompt_number": 15
    },
    {
     "cell_type": "code",
     "collapsed": false,
     "input": [
      "!docker pull odise/busybox-python"
     ],
     "language": "python",
     "metadata": {
      "slideshow": {
       "slide_type": "fragment"
      }
     },
     "outputs": [
      {
       "output_type": "stream",
       "stream": "stdout",
       "text": [
        "Pulling repository odise/busybox-python\n",
        "\n",
        "\u001b[1B\n",
        "\u001b[0B\n",
        "\u001b[1B\n",
        "\u001b[1B\n",
        "\u001b[1B\n",
        "\u001b[1B\n",
        "\u001b[1B\n",
        "\u001b[1B\n",
        "\u001b[1B\n",
        "\u001b[1B\n",
        "\u001b[1B\n",
        "\u001b[12BStatus: Downloaded newer image for odise/busybox-python:latest\n"
       ]
      }
     ],
     "prompt_number": 17
    },
    {
     "cell_type": "code",
     "collapsed": false,
     "input": [
      "!docker images"
     ],
     "language": "python",
     "metadata": {
      "slideshow": {
       "slide_type": "fragment"
      }
     },
     "outputs": [
      {
       "output_type": "stream",
       "stream": "stdout",
       "text": [
        "REPOSITORY             TAG                 IMAGE ID            CREATED             VIRTUAL SIZE\r\n",
        "ubuntu                 14.04               5ba9dab47459        12 days ago         188.3 MB\r\n",
        "odise/busybox-python   latest              2584d7164b3b        4 weeks ago         20.26 MB\r\n",
        "busybox                latest              4986bf8c1536        5 weeks ago         2.433 MB\r\n"
       ]
      }
     ],
     "prompt_number": 18
    },
    {
     "cell_type": "markdown",
     "metadata": {
      "slideshow": {
       "slide_type": "subslide"
      }
     },
     "source": [
      "##Container\n",
      "\n",
      "###An image with processes running in memory, or an exited container with a modified filesystem"
     ]
    },
    {
     "cell_type": "markdown",
     "metadata": {
      "slideshow": {
       "slide_type": "fragment"
      }
     },
     "source": [
      "<img src=\"images/DockerFilesystemsBusybox.png\" width=\"600px\">"
     ]
    },
    {
     "cell_type": "code",
     "collapsed": false,
     "input": [
      "!docker ps"
     ],
     "language": "python",
     "metadata": {
      "slideshow": {
       "slide_type": "subslide"
      }
     },
     "outputs": [
      {
       "output_type": "stream",
       "stream": "stdout",
       "text": [
        "CONTAINER ID        IMAGE               COMMAND             CREATED             STATUS              PORTS               NAMES\r\n"
       ]
      }
     ],
     "prompt_number": 19
    },
    {
     "cell_type": "code",
     "collapsed": false,
     "input": [
      "!docker run -d busybox sh -c 'sleep 3'"
     ],
     "language": "python",
     "metadata": {
      "slideshow": {
       "slide_type": "fragment"
      }
     },
     "outputs": [
      {
       "output_type": "stream",
       "stream": "stdout",
       "text": [
        "1cbc2289c78aa5564f438ddadb452609fe8c5168b523c9bf976924fa4976221c\r\n"
       ]
      }
     ],
     "prompt_number": 33
    },
    {
     "cell_type": "code",
     "collapsed": false,
     "input": [
      "!docker ps"
     ],
     "language": "python",
     "metadata": {
      "slideshow": {
       "slide_type": "fragment"
      }
     },
     "outputs": [
      {
       "output_type": "stream",
       "stream": "stdout",
       "text": [
        "CONTAINER ID        IMAGE               COMMAND             CREATED             STATUS              PORTS               NAMES\r\n"
       ]
      }
     ],
     "prompt_number": 35
    },
    {
     "cell_type": "code",
     "collapsed": false,
     "input": [
      "!docker ps -a"
     ],
     "language": "python",
     "metadata": {
      "slideshow": {
       "slide_type": "fragment"
      }
     },
     "outputs": [
      {
       "output_type": "stream",
       "stream": "stdout",
       "text": [
        "CONTAINER ID        IMAGE               COMMAND             CREATED              STATUS                          PORTS               NAMES\r\n",
        "1cbc2289c78a        busybox:latest      \"sh -c 'sleep 3'\"   21 seconds ago       Exited (0) 18 seconds ago                           lonely_kowalevski   \r\n",
        "d61bb82d51c0        busybox:latest      \"sh -c 'sleep 3'\"   22 seconds ago       Exited (0) 19 seconds ago                           elated_ritchie      \r\n",
        "338339575ffd        busybox:latest      \"sh -c 'sleep 3'\"   29 seconds ago       Exited (0) 26 seconds ago                           lonely_carson       \r\n",
        "0ab965ebdcd4        busybox:latest      \"sh -c 'sleep 3'\"   54 seconds ago       Exited (0) 51 seconds ago                           cranky_yonath       \r\n",
        "189bc446af6c        busybox:latest      \"sh -c 'sleep 3'\"   57 seconds ago       Exited (0) 54 seconds ago                           sleepy_engelbart    \r\n",
        "0f27dde39530        busybox:latest      \"sh -c 'sleep 3'\"   About a minute ago   Exited (0) About a minute ago                       reverent_poincare   \r\n",
        "0ed61a82b9b1        busybox:latest      \"sh -c 'sleep 3'\"   About a minute ago   Exited (0) About a minute ago                       admiring_colden     \r\n"
       ]
      }
     ],
     "prompt_number": 36
    },
    {
     "cell_type": "markdown",
     "metadata": {
      "slideshow": {
       "slide_type": "subslide"
      }
     },
     "source": [
      "##Volume\n",
      "\n",
      "###A mounted directory that is not tracked as a filesystem layer\n",
      "\n",
      "* Data volumes are initialized when a container is created\n",
      "* Volumes can be shared and reused between containers\n",
      "* Changes to a data volume are made directly\n",
      "* Changes to a data volume will not be included when you update an image\n",
      "* Volume persist until no containers use them\n",
      "* Host directories can also be mounted as data volumes"
     ]
    },
    {
     "cell_type": "code",
     "collapsed": false,
     "input": [
      "!ls images"
     ],
     "language": "python",
     "metadata": {},
     "outputs": [
      {
       "output_type": "stream",
       "stream": "stdout",
       "text": [
        "BackwardsCompatibility.png    DockerFilesystems.svg   LayerCake.jpg\r\n",
        "CarJam.jpg\t\t      DockerHub.png\t      MasonJar.jpg\r\n",
        "Chroot.png\t\t      DockerLogo.png\t      ModulesModulesModules.png\r\n",
        "ConfusedCat.jpg\t\t      DockerVM.jpg\t      PythonStoryline.svg\r\n",
        "DockerFilesystemsBusybox.png  FilesystemsGeneric.png\r\n"
       ]
      }
     ],
     "prompt_number": 38
    },
    {
     "cell_type": "code",
     "collapsed": false,
     "input": [
      "!docker run --rm --volume $PWD/images:/images busybox sh -c 'ls /images'"
     ],
     "language": "python",
     "metadata": {},
     "outputs": [
      {
       "output_type": "stream",
       "stream": "stdout",
       "text": [
        "BackwardsCompatibility.png\r\n",
        "CarJam.jpg\r\n",
        "Chroot.png\r\n",
        "ConfusedCat.jpg\r\n",
        "DockerFilesystems.svg\r\n",
        "DockerFilesystemsBusybox.png\r\n",
        "DockerHub.png\r\n",
        "DockerLogo.png\r\n",
        "DockerVM.jpg\r\n",
        "FilesystemsGeneric.png\r\n",
        "LayerCake.jpg\r\n",
        "MasonJar.jpg\r\n",
        "ModulesModulesModules.png\r\n",
        "PythonStoryline.svg\r\n"
       ]
      }
     ],
     "prompt_number": 40
    },
    {
     "cell_type": "markdown",
     "metadata": {
      "slideshow": {
       "slide_type": "subslide"
      }
     },
     "source": [
      "##Dockerfile\n",
      "\n",
      "###A sequence of instructions to generate a Docker image"
     ]
    },
    {
     "cell_type": "code",
     "collapsed": false,
     "input": [
      "%%writefile docker-ls-images/Dockerfile\n",
      "\n",
      "FROM busybox\n",
      "MAINTAINER Matt McCormick <matt.mccormick@kitware.com>\n",
      "RUN mkdir -p /images\n",
      "CMD [\"/bin/sh\", \"-c\", \"ls /images\"]"
     ],
     "language": "python",
     "metadata": {
      "slideshow": {
       "slide_type": "fragment"
      }
     },
     "outputs": [
      {
       "output_type": "stream",
       "stream": "stdout",
       "text": [
        "Overwriting docker-ls-images/Dockerfile\n"
       ]
      }
     ],
     "prompt_number": 66
    },
    {
     "cell_type": "code",
     "collapsed": false,
     "input": [
      "!docker build -t ls-images ./docker-ls-images"
     ],
     "language": "python",
     "metadata": {
      "slideshow": {
       "slide_type": "subslide"
      }
     },
     "outputs": [
      {
       "output_type": "stream",
       "stream": "stdout",
       "text": [
        "Sending build context to Docker daemon 2.048 kB\n",
        "Sending build context to Docker daemon \n",
        "Step 0 : FROM busybox\n",
        " ---> 4986bf8c1536\n",
        "Step 1 : MAINTAINER Matt McCormick <matt.mccormick@kitware.com>\n",
        " ---> Using cache\n",
        " ---> 734d728c12dc\n",
        "Step 2 : RUN mkdir -p /images\n",
        " ---> Using cache\n",
        " ---> 2b23104bc243\n",
        "Step 3 : CMD /bin/sh -c ls /images\n",
        " ---> Running in ce35bdeab27f\n",
        " ---> 42dc5f9570bd\n",
        "Removing intermediate container ce35bdeab27f\n",
        "Successfully built 42dc5f9570bd\n"
       ]
      }
     ],
     "prompt_number": 67
    },
    {
     "cell_type": "code",
     "collapsed": false,
     "input": [
      "!docker run --rm -v $PWD/images:/images ls-images"
     ],
     "language": "python",
     "metadata": {
      "slideshow": {
       "slide_type": "fragment"
      }
     },
     "outputs": [
      {
       "output_type": "stream",
       "stream": "stdout",
       "text": [
        "BackwardsCompatibility.png\r\n",
        "CarJam.jpg\r\n",
        "Chroot.png\r\n",
        "ConfusedCat.jpg\r\n",
        "DockerFilesystems.svg\r\n",
        "DockerFilesystemsBusybox.png\r\n",
        "DockerHub.png\r\n",
        "DockerLogo.png\r\n",
        "DockerVM.jpg\r\n",
        "FilesystemsGeneric.png\r\n",
        "LayerCake.jpg\r\n",
        "MasonJar.jpg\r\n",
        "ModulesModulesModules.png\r\n",
        "PythonStoryline.svg\r\n"
       ]
      }
     ],
     "prompt_number": 68
    },
    {
     "cell_type": "markdown",
     "metadata": {
      "internals": {
       "frag_helper": "fragment_end",
       "frag_number": 33,
       "slide_helper": "subslide_end",
       "slide_type": "subslide"
      },
      "slide_helper": "slide_end",
      "slideshow": {
       "slide_type": "slide"
      }
     },
     "source": [
      "# Example Applications"
     ]
    },
    {
     "cell_type": "markdown",
     "metadata": {
      "internals": {
       "frag_helper": "fragment_end",
       "frag_number": 33,
       "slide_helper": "subslide_end",
       "slide_type": "subslide"
      },
      "slide_helper": "slide_end",
      "slideshow": {
       "slide_type": "subslide"
      }
     },
     "source": [
      "In the `docker/src/itkka` directory is an example Docker image, also [available](https://registry.hub.docker.com/u/thewtex/itkka/) on [DockerHub](https://hub.docker.com/) for reproducing [an article on PET image series kinetic analysis]( http://hdl.handle.net/10380/3469).\n",
      "\n",
      "The requirements for reproducing this computational analysis, the Ubuntu 14.04 operating system, the GCC 4.8.2-19ubuntu1 compiler, and particular versions of the dependencies the Insight Toolkit (ITK), libxml, sundials, and Boost, are now runnable on any x86_64 operating system, archiveable, and shareable.\n",
      "\n",
      "<img src=\"images/itkka.jpg\">"
     ]
    },
    {
     "cell_type": "markdown",
     "metadata": {
      "internals": {
       "frag_helper": "fragment_end",
       "frag_number": 33,
       "slide_helper": "subslide_end",
       "slide_type": "subslide"
      },
      "slide_helper": "subslide_end",
      "slideshow": {
       "slide_type": "slide"
      }
     },
     "source": [
      "# Recap and Next Steps"
     ]
    },
    {
     "cell_type": "markdown",
     "metadata": {
      "internals": {
       "frag_helper": "fragment_end",
       "frag_number": 33,
       "slide_type": "subslide"
      },
      "slideshow": {
       "slide_type": "subslide"
      }
     },
     "source": [
      "## Docker is\n"
     ]
    },
    {
     "cell_type": "markdown",
     "metadata": {
      "internals": {
       "frag_helper": "fragment_end",
       "frag_number": 39
      },
      "slideshow": {
       "slide_type": "fragment"
      }
     },
     "source": [
      "* Sandboxed chroot +"
     ]
    },
    {
     "cell_type": "markdown",
     "metadata": {
      "internals": {
       "frag_helper": "fragment_end",
       "frag_number": 40
      },
      "slideshow": {
       "slide_type": "fragment"
      }
     },
     "source": [
      "* Incremental, copy on write filesystem +"
     ]
    },
    {
     "cell_type": "markdown",
     "metadata": {
      "internals": {
       "frag_helper": "fragment_end",
       "frag_number": 41
      },
      "slideshow": {
       "slide_type": "fragment"
      }
     },
     "source": [
      "* Distributed VCS for binaries"
     ]
    },
    {
     "cell_type": "markdown",
     "metadata": {
      "internals": {
       "frag_helper": "fragment_end",
       "frag_number": 42,
       "slide_helper": "subslide_end"
      },
      "slide_helper": "subslide_end",
      "slideshow": {
       "slide_type": "fragment"
      }
     },
     "source": [
      "* Easy to use interface"
     ]
    },
    {
     "cell_type": "markdown",
     "metadata": {
      "internals": {
       "frag_helper": "fragment_end",
       "frag_number": 42,
       "slide_type": "subslide"
      },
      "slideshow": {
       "slide_type": "subslide"
      }
     },
     "source": [
      "## Concepts"
     ]
    },
    {
     "cell_type": "markdown",
     "metadata": {
      "internals": {
       "frag_helper": "fragment_end",
       "frag_number": 44
      },
      "slideshow": {
       "slide_type": "fragment"
      }
     },
     "source": [
      "* *Image*:  A read-only file system layer"
     ]
    },
    {
     "cell_type": "markdown",
     "metadata": {
      "internals": {
       "frag_helper": "fragment_end",
       "frag_number": 45
      },
      "slideshow": {
       "slide_type": "fragment"
      }
     },
     "source": [
      "* *Container*: An image with processes running in memory, or an exited container with a modified filesystem"
     ]
    },
    {
     "cell_type": "markdown",
     "metadata": {
      "internals": {
       "frag_helper": "fragment_end",
       "frag_number": 46
      },
      "slideshow": {
       "slide_type": "fragment"
      }
     },
     "source": [
      "* *Volume*: A mounted directory that is not tracked as a filesystem layer"
     ]
    },
    {
     "cell_type": "markdown",
     "metadata": {
      "internals": {
       "frag_helper": "fragment_end",
       "frag_number": 47
      },
      "slideshow": {
       "slide_type": "fragment"
      }
     },
     "source": [
      "* *Dockerfile*: A sequence of instructions to generate a Docker image"
     ]
    },
    {
     "cell_type": "markdown",
     "metadata": {
      "internals": {
       "frag_helper": "fragment_end",
       "frag_number": 48,
       "slide_type": "subslide"
      },
      "slideshow": {
       "slide_type": "subslide"
      }
     },
     "source": [
      "## Applications"
     ]
    },
    {
     "cell_type": "markdown",
     "metadata": {
      "internals": {
       "frag_helper": "fragment_end",
       "frag_number": 50
      },
      "slideshow": {
       "slide_type": "fragment"
      }
     },
     "source": [
      "1. Reproducible computational environment"
     ]
    },
    {
     "cell_type": "markdown",
     "metadata": {
      "internals": {
       "frag_helper": "fragment_end",
       "frag_number": 51
      },
      "slideshow": {
       "slide_type": "fragment"
      }
     },
     "source": [
      "2. Run exotic applications in sandbox"
     ]
    },
    {
     "cell_type": "markdown",
     "metadata": {
      "internals": {
       "frag_helper": "fragment_end",
       "frag_number": 52,
       "slide_helper": "subslide_end"
      },
      "slide_helper": "subslide_end",
      "slideshow": {
       "slide_type": "fragment"
      }
     },
     "source": [
      "3. Webapp development and deployment"
     ]
    },
    {
     "cell_type": "heading",
     "level": 2,
     "metadata": {
      "internals": {
       "frag_helper": "fragment_end",
       "frag_number": 52,
       "slide_type": "subslide"
      },
      "slideshow": {
       "slide_type": "subslide"
      }
     },
     "source": [
      "Learn more!"
     ]
    },
    {
     "cell_type": "markdown",
     "metadata": {
      "internals": {
       "frag_helper": "fragment_end",
       "frag_number": 54
      },
      "slideshow": {
       "slide_type": "fragment"
      }
     },
     "source": [
      "* [Interactive Brower-Based Docker Tutorial](https://www.docker.com/tryit/)\n",
      "* [Docker Documentation](https://docs.docker.com/userguide/)\n",
      "* [Reproducible Research: Walking the Walk Tutorial](https://reproducible-research.github.io/scipy-tutorial-2014/)\n",
      "* [IPython DockerHub Repositories](https://registry.hub.docker.com/repos/ipython/)"
     ]
    },
    {
     "cell_type": "markdown",
     "metadata": {
      "internals": {
       "frag_helper": "fragment_end",
       "frag_number": 54
      },
      "slideshow": {
       "slide_type": "-"
      }
     },
     "source": [
      "##Docker vs. LXC\n",
      "\n",
      "* LXC is a set of tools and API to interact with Linux kernel namespaces, cgroups, etc.\n",
      "* LXC used to be the default execution enviroment for Docker\n",
      "* Docker provides LXC function, plus:\n",
      "  - Portable deployment across machines\n",
      "  - Application-centric\n",
      "  - Automatic builds\n",
      "  - Versioning\n",
      "  - Component re-use\n",
      "  - Sharing\n",
      "  - Tool echosystem"
     ]
    },
    {
     "cell_type": "markdown",
     "metadata": {
      "internals": {
       "frag_helper": "fragment_end",
       "frag_number": 54,
       "slide_helper": "subslide_end"
      },
      "slide_helper": "slide_end",
      "slideshow": {
       "slide_type": "-"
      }
     },
     "source": [
      "##Docker vs Rocket\n",
      "\n",
      "- Rocket is a container system like Docker developed by CoreOS\n",
      "- Rocket is not yet fully operational\n",
      "- Rocket does not use a daemon/client system"
     ]
    }
   ],
   "metadata": {}
  }
 ]
}