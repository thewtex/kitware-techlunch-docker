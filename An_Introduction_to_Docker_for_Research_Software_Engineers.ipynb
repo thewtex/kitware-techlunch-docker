{
 "metadata": {
  "celltoolbar": "Slideshow",
  "kernelspec": {
   "codemirror_mode": {
    "name": "ipython",
    "version": 3
   },
   "display_name": "IPython (Python 3)",
   "language": "python",
   "name": "python3"
  },
  "name": "",
  "signature": "sha256:ccf6d3c2ff85aa6ff5fd555b372f9824314e1d2e88e0695e724d2fe8d0c24435"
 },
 "nbformat": 3,
 "nbformat_minor": 0,
 "worksheets": [
  {
   "cells": [
    {
     "cell_type": "markdown",
     "metadata": {
      "internals": {
       "slide_helper": "subslide_end",
       "slide_type": "subslide"
      },
      "slide_helper": "slide_end",
      "slideshow": {
       "slide_type": "slide"
      }
     },
     "source": [
      "# Docker: An Introduction for Research Software Engineers\n",
      "\n",
      "#### Matt McCormick, Kitware, Inc\n",
      "#### Kitware Tech Lunch, 2015-02-10"
     ]
    },
    {
     "cell_type": "heading",
     "level": 1,
     "metadata": {
      "internals": {
       "slide_helper": "subslide_end",
       "slide_type": "subslide"
      },
      "slide_helper": "subslide_end",
      "slideshow": {
       "slide_type": "slide"
      }
     },
     "source": [
      "The Problem"
     ]
    },
    {
     "cell_type": "markdown",
     "metadata": {
      "internals": {
       "slide_helper": "subslide_end",
       "slide_type": "subslide"
      },
      "slide_helper": "subslide_end",
      "slideshow": {
       "slide_type": "subslide"
      }
     },
     "source": [
      "Even though computers are often considered deterministic, **computational software is a rapidly evolving and changing landscape**. Libraries are constantly adding new features and fixing issues. \n",
      "\n",
      "<img src=\"images/PythonStoryline.svg\" width=700>"
     ]
    },
    {
     "cell_type": "markdown",
     "metadata": {
      "internals": {
       "slide_helper": "subslide_end",
       "slide_type": "subslide"
      },
      "slide_helper": "subslide_end",
      "slideshow": {
       "slide_type": "subslide"
      }
     },
     "source": [
      "Even libraries with the strictest backwards-compatibility policies can **change in significant ways**.\n",
      "\n",
      "<img src=\"images/BackwardsCompatibility.png\" width=\"600px\">"
     ]
    },
    {
     "cell_type": "markdown",
     "metadata": {
      "internals": {
       "slide_helper": "subslide_end",
       "slide_type": "subslide"
      },
      "slide_helper": "subslide_end",
      "slideshow": {
       "slide_type": "subslide"
      }
     },
     "source": [
      "A **reproducible computational environment** is *sufficiently consistent for the computational task at hand*.\n",
      "\n",
      "For example, this can consist of\n",
      "\n",
      "- a similar CPU instruction set\n",
      "- libraries and executables available with a specific version and configuration options\n",
      "- a specific version of a given compiler\n",
      "- a specific version of a libc implementation\n",
      "- a specific version of the C++ standard library"
     ]
    },
    {
     "cell_type": "heading",
     "level": 2,
     "metadata": {
      "internals": {
       "slide_helper": "subslide_end",
       "slide_type": "subslide"
      },
      "slide_helper": "subslide_end",
      "slideshow": {
       "slide_type": "subslide"
      }
     },
     "source": [
      "Close But Not Good Enough"
     ]
    },
    {
     "cell_type": "markdown",
     "metadata": {
      "internals": {
       "slide_type": "subslide"
      },
      "slideshow": {
       "slide_type": "subslide"
      }
     },
     "source": [
      "### Source code\n",
      "\n",
      "Does not include:\n",
      "\n",
      "- Compiler\n",
      "- Hardware it was built on\n",
      "- How it is configured"
     ]
    },
    {
     "cell_type": "markdown",
     "metadata": {
      "internals": {
       "frag_number": 7,
       "slide_helper": "subslide_end"
      },
      "slide_helper": "subslide_end",
      "slideshow": {
       "slide_type": "fragment"
      }
     },
     "source": [
      "<img src=\"images/ConfusedCat.jpg\" width=\"400px\">"
     ]
    },
    {
     "cell_type": "markdown",
     "metadata": {
      "internals": {
       "frag_helper": "fragment_end",
       "frag_number": 7,
       "slide_helper": "subslide_end",
       "slide_type": "subslide"
      },
      "slide_helper": "subslide_end",
      "slideshow": {
       "slide_type": "subslide"
      }
     },
     "source": [
      "### Package managers and distributions\n",
      "\n",
      "- Packages become unsupported over time\n",
      "- What to do if a required library is not packaged?\n",
      "\n",
      "<img src=\"images/ModulesModulesModules.png\" width=\"500px\">"
     ]
    },
    {
     "cell_type": "markdown",
     "metadata": {
      "internals": {
       "frag_helper": "fragment_end",
       "frag_number": 7,
       "slide_helper": "subslide_end",
       "slide_type": "subslide"
      },
      "slide_helper": "subslide_end",
      "slideshow": {
       "slide_type": "subslide"
      }
     },
     "source": [
      "### Virtual machines (VMs)\n",
      "\n",
      "- Inefficient utilization of computational resources\n",
      "\n",
      "<img src=\"images/CarJam.jpg\">"
     ]
    },
    {
     "cell_type": "markdown",
     "metadata": {
      "internals": {
       "frag_helper": "fragment_end",
       "frag_number": 7,
       "slide_type": "subslide"
      },
      "slideshow": {
       "slide_type": "subslide"
      }
     },
     "source": [
      "# Enter Docker\n",
      "\n",
      "![Docker logo](images/DockerLogo.png)\n",
      "\n",
      "Docker is new type of tool to easily build, ship, and run reproducible, binary applications.  \n",
      "\n",
      "It is \"good enough\" for a reproducible computational environment.\n",
      "\n",
      "In this talk, we will introduce Docker from the perspective a scientific research software engineer.  We will\n"
     ]
    },
    {
     "cell_type": "markdown",
     "metadata": {
      "internals": {
       "frag_helper": "fragment_end",
       "frag_number": 11
      },
      "slideshow": {
       "slide_type": "fragment"
      }
     },
     "source": [
      "- Generate an understanding of what Docker is by comparing it to existing technologies."
     ]
    },
    {
     "cell_type": "markdown",
     "metadata": {
      "internals": {
       "frag_helper": "fragment_end",
       "frag_number": 12
      },
      "slideshow": {
       "slide_type": "fragment"
      }
     },
     "source": [
      "- Give an introduction to basic Docker concepts."
     ]
    },
    {
     "cell_type": "markdown",
     "metadata": {
      "internals": {
       "frag_helper": "fragment_end",
       "frag_number": 13,
       "slide_helper": "subslide_end"
      },
      "slide_helper": "slide_end",
      "slideshow": {
       "slide_type": "fragment"
      }
     },
     "source": [
      "- Go through examples that demonstrate when and how it is beneficial to take advantage of this tool."
     ]
    },
    {
     "cell_type": "markdown",
     "metadata": {
      "internals": {
       "frag_helper": "fragment_end",
       "frag_number": 13,
       "slide_helper": "subslide_end",
       "slide_type": "subslide"
      },
      "slide_helper": "subslide_end",
      "slideshow": {
       "slide_type": "slide"
      }
     },
     "source": [
      "# Understanding Docker\n",
      "\n",
      "### Not just this cute whale thing"
     ]
    },
    {
     "cell_type": "markdown",
     "metadata": {
      "internals": {
       "frag_helper": "fragment_end",
       "frag_number": 13,
       "slide_type": "subslide"
      },
      "slideshow": {
       "slide_type": "subslide"
      }
     },
     "source": [
      "Docker is an open-source engine that automates the deployment of any application as a **lightweight**, **portable**, **self-sufficient container** that will run virtually anywhere.\n",
      "\n",
      "\n"
     ]
    },
    {
     "cell_type": "code",
     "collapsed": false,
     "input": [
      "!docker run --rm busybox sh -c 'echo \"Hello Docker World!\"'"
     ],
     "language": "python",
     "metadata": {
      "internals": {
       "frag_helper": "fragment_end",
       "frag_number": 13,
       "slide_helper": "subslide_end"
      },
      "slide_helper": "subslide_end",
      "slideshow": {
       "slide_type": "-"
      }
     },
     "outputs": []
    },
    {
     "cell_type": "markdown",
     "metadata": {
      "internals": {
       "frag_helper": "fragment_end",
       "frag_number": 13,
       "slide_helper": "subslide_end",
       "slide_type": "subslide"
      },
      "slide_helper": "subslide_end",
      "slideshow": {
       "slide_type": "subslide"
      }
     },
     "source": [
      "###Docker is a combination of a:\n",
      "\n",
      "1. **Sandboxed chroot**\n",
      "2. **Copy on write filesystem**\n",
      "3. **Distributed VCS for binaries**\n",
      "4. **Easy to use interface**"
     ]
    },
    {
     "cell_type": "markdown",
     "metadata": {
      "internals": {
       "frag_helper": "fragment_end",
       "frag_number": 13,
       "slide_helper": "subslide_end",
       "slide_type": "subslide"
      },
      "slide_helper": "subslide_end",
      "slideshow": {
       "slide_type": "subslide"
      }
     },
     "source": [
      "##Sandboxed chroot"
     ]
    },
    {
     "cell_type": "markdown",
     "metadata": {
      "internals": {
       "frag_helper": "fragment_end",
       "frag_number": 13,
       "slide_helper": "subslide_end",
       "slide_type": "subslide"
      },
      "slide_helper": "subslide_end",
      "slideshow": {
       "slide_type": "subslide"
      }
     },
     "source": [
      "Docker works with images that **consume minimal disk space**, **versioned**, **archiveable**, and **shareable**. Executing applications in these images does not require dedicated resources and is **high performance**.\n",
      "\n",
      "It works with **containers** as opposed to **virtual machines** (VM's).\n",
      "\n",
      "<img src=\"images/DockerVM.jpg\" width=\"600\">"
     ]
    },
    {
     "cell_type": "code",
     "collapsed": false,
     "input": [
      "%time !docker run --rm busybox sh -c 'echo \"Hello Docker World!\"'"
     ],
     "language": "python",
     "metadata": {
      "internals": {
       "frag_helper": "fragment_end",
       "frag_number": 13,
       "slide_helper": "subslide_end",
       "slide_type": "subslide"
      },
      "slide_helper": "subslide_end",
      "slideshow": {
       "slide_type": "subslide"
      }
     },
     "outputs": []
    },
    {
     "cell_type": "markdown",
     "metadata": {
      "internals": {
       "frag_helper": "fragment_end",
       "frag_number": 13,
       "slide_helper": "subslide_end",
       "slide_type": "subslide"
      },
      "slide_helper": "subslide_end",
      "slideshow": {
       "slide_type": "subslide"
      }
     },
     "source": [
      "A Docker container is similar to a running an application in a *chroot*, but it sandboxes processes and the network stack with Linux kernel:\n",
      "\n",
      "* **Namespaces**: isolated processes, networking, messaging, file systems, hostname's\n",
      "* **CGroups**: groups together cpu, memory, and IO resources\n",
      "\n",
      "<img src=\"images/Chroot.png\" width=\"600px\">"
     ]
    },
    {
     "cell_type": "markdown",
     "metadata": {
      "internals": {
       "frag_helper": "fragment_end",
       "frag_number": 13,
       "slide_helper": "subslide_end",
       "slide_type": "subslide"
      },
      "slide_helper": "subslide_end",
      "slideshow": {
       "slide_type": "subslide"
      }
     },
     "source": [
      "##Copy on Write Filesystem\n",
      "\n",
      "**Union file systems**, or UnionFS, are file systems that operate by **creating layers**, making them very **lightweight** and **fast**. Docker uses union file systems to provide the building blocks for containers. Docker can make use of several union file system variants including: \n",
      "\n",
      "- AUFS\n",
      "- btrfs\n",
      "- vfs\n",
      "- DeviceMapper\n",
      "\n",
      "<img src=\"images/LayerCake.jpg\" width=\"400px\">"
     ]
    },
    {
     "cell_type": "markdown",
     "metadata": {
      "internals": {
       "frag_helper": "fragment_end",
       "frag_number": 13,
       "slide_helper": "subslide_end",
       "slide_type": "subslide"
      },
      "slide_helper": "subslide_end",
      "slideshow": {
       "slide_type": "subslide"
      }
     },
     "source": [
      "### Kernel and root filesystem\n",
      "\n",
      "<img src=\"images/FilesystemsGeneric.png\" width=\"600px\">"
     ]
    },
    {
     "cell_type": "markdown",
     "metadata": {
      "internals": {
       "frag_helper": "fragment_end",
       "frag_number": 13,
       "slide_helper": "subslide_end",
       "slide_type": "subslide"
      },
      "slide_helper": "subslide_end",
      "slideshow": {
       "slide_type": "subslide"
      }
     },
     "source": [
      "###Re-usable, shared filesystem layers\n",
      "\n",
      "<img src=\"images/DockerFilesystems.svg\" width=500>"
     ]
    },
    {
     "cell_type": "markdown",
     "metadata": {
      "internals": {
       "frag_helper": "fragment_end",
       "frag_number": 13,
       "slide_type": "subslide"
      },
      "slideshow": {
       "slide_type": "subslide"
      }
     },
     "source": [
      "##Distributed VCS for binaries\n",
      "\n",
      "### Docker is like Git for binaries\n",
      "\n"
     ]
    },
    {
     "cell_type": "markdown",
     "metadata": {
      "internals": {
       "frag_helper": "fragment_end",
       "frag_number": 13,
       "slide_helper": "subslide_end"
      },
      "slide_helper": "subslide_end",
      "slideshow": {
       "slide_type": "notes"
      }
     },
     "source": [
      "###DockerHub is like GitHub\n",
      "\n",
      "<img src=\"images/DockerHub.png\" width=\"700px\">"
     ]
    },
    {
     "cell_type": "code",
     "collapsed": false,
     "input": [
      "!docker search itk"
     ],
     "language": "python",
     "metadata": {
      "internals": {
       "frag_helper": "fragment_end",
       "frag_number": 13,
       "slide_helper": "subslide_end",
       "slide_type": "subslide"
      },
      "slide_helper": "subslide_end",
      "slideshow": {
       "slide_type": "subslide"
      }
     },
     "outputs": []
    },
    {
     "cell_type": "markdown",
     "metadata": {
      "internals": {
       "frag_helper": "fragment_end",
       "frag_number": 13,
       "slide_helper": "subslide_end",
       "slide_type": "subslide"
      },
      "slide_helper": "subslide_end",
      "slideshow": {
       "slide_type": "subslide"
      }
     },
     "source": [
      "### Docker is like Git, since\n",
      "\n",
      "- Docker images are identified with hex string or tags\n",
      "- Interface is `docker <subcommand>`\n",
      "- `docker push`, `docker pull`, `docker tag`\n",
      "- `docker export` will create a archiveable tarball of an image's filesystem. "
     ]
    },
    {
     "cell_type": "markdown",
     "metadata": {
      "internals": {
       "frag_helper": "fragment_end",
       "frag_number": 13,
       "slide_helper": "subslide_end",
       "slide_type": "subslide"
      },
      "slide_helper": "subslide_end",
      "slideshow": {
       "slide_type": "subslide"
      }
     },
     "source": [
      "##Easy to use interface"
     ]
    },
    {
     "cell_type": "code",
     "collapsed": false,
     "input": [
      "!docker --help"
     ],
     "language": "python",
     "metadata": {
      "internals": {
       "frag_helper": "fragment_end",
       "frag_number": 13,
       "slide_helper": "subslide_end",
       "slide_type": "subslide"
      },
      "slide_helper": "subslide_end",
      "slideshow": {
       "slide_type": "subslide"
      }
     },
     "outputs": []
    },
    {
     "cell_type": "code",
     "collapsed": false,
     "input": [
      "!docker cp --help"
     ],
     "language": "python",
     "metadata": {
      "internals": {
       "frag_helper": "fragment_end",
       "frag_number": 13,
       "slide_helper": "subslide_end",
       "slide_type": "subslide"
      },
      "slide_helper": "subslide_end",
      "slideshow": {
       "slide_type": "subslide"
      }
     },
     "outputs": []
    },
    {
     "cell_type": "markdown",
     "metadata": {
      "internals": {
       "frag_helper": "fragment_end",
       "frag_number": 13,
       "slide_helper": "subslide_end",
       "slide_type": "subslide"
      },
      "slide_helper": "subslide_end",
      "slideshow": {
       "slide_type": "subslide"
      }
     },
     "source": [
      "###Installing\n",
      "\n",
      "Here's what you need:\n",
      "\n",
      "- Linux kernel with control groups and namespaces\n",
      "- Kernel support for Another Union File System (AUFS)\n",
      "- Docker Daemon / Server (written in Go)\n",
      "\n",
      "<img src=\"images/MasonJar.jpg\" width=\"600px\">"
     ]
    },
    {
     "cell_type": "markdown",
     "metadata": {
      "internals": {
       "frag_helper": "fragment_end",
       "frag_number": 13,
       "slide_type": "subslide"
      },
      "slideshow": {
       "slide_type": "subslide"
      }
     },
     "source": [
      "####Linux\n",
      "\n",
      "- Ubuntu 14.04 *or*\n",
      "- See [Docker installation instructions](http://docs.docker.com/installation/) for distributions with Kernel 3.8 + later *or*\n",
      "- [Kernel configuration instructions](https://wiki.gentoo.org/wiki/LXC)"
     ]
    },
    {
     "cell_type": "markdown",
     "metadata": {
      "internals": {
       "frag_helper": "fragment_end",
       "frag_number": 34,
       "slide_helper": "subslide_end"
      },
      "slide_helper": "slide_end",
      "slideshow": {
       "slide_type": "fragment"
      }
     },
     "source": [
      "####Windows and Mac\n",
      "\n",
      "[boot2docker](http://boot2docker.io/)\n",
      "\n",
      "* easy install of\n",
      "  - Git Bash\n",
      "  - VirtualBox\n",
      "  - Lightweight Linux distribution\n",
      "  - Docker\n",
      "\n",
      "* Works, but adds layer of complexity\n",
      "* Mac native interface improving\n",
      "* Comes with busybox shell -> Write your Docker build.sh and run.sh in Bourne shell"
     ]
    },
    {
     "cell_type": "markdown",
     "metadata": {
      "internals": {
       "frag_helper": "fragment_end",
       "frag_number": 34,
       "slide_helper": "subslide_end",
       "slide_type": "subslide"
      },
      "slide_helper": "subslide_end",
      "slideshow": {
       "slide_type": "slide"
      }
     },
     "source": [
      "# Docker Concepts"
     ]
    },
    {
     "cell_type": "markdown",
     "metadata": {
      "internals": {
       "frag_helper": "fragment_end",
       "frag_number": 34,
       "slide_type": "subslide"
      },
      "slideshow": {
       "slide_type": "subslide"
      }
     },
     "source": [
      "##Image\n",
      " \n",
      "###A read-only file system layer"
     ]
    },
    {
     "cell_type": "markdown",
     "metadata": {
      "internals": {
       "frag_helper": "fragment_end",
       "frag_number": 37,
       "slide_helper": "subslide_end"
      },
      "slide_helper": "subslide_end",
      "slideshow": {
       "slide_type": "fragment"
      }
     },
     "source": [
      "<img src=\"images/DockerFilesystemsBusybox.png\" width=\"600px\">"
     ]
    },
    {
     "cell_type": "code",
     "collapsed": false,
     "input": [
      "!docker images"
     ],
     "language": "python",
     "metadata": {
      "internals": {
       "frag_helper": "fragment_end",
       "frag_number": 37,
       "slide_type": "subslide"
      },
      "slideshow": {
       "slide_type": "subslide"
      }
     },
     "outputs": []
    },
    {
     "cell_type": "code",
     "collapsed": false,
     "input": [
      "!docker pull odise/busybox-python"
     ],
     "language": "python",
     "metadata": {
      "internals": {
       "frag_helper": "fragment_end",
       "frag_number": 39
      },
      "slideshow": {
       "slide_type": "fragment"
      }
     },
     "outputs": []
    },
    {
     "cell_type": "code",
     "collapsed": false,
     "input": [
      "!docker images"
     ],
     "language": "python",
     "metadata": {
      "internals": {
       "frag_helper": "fragment_end",
       "frag_number": 40,
       "slide_helper": "subslide_end"
      },
      "slide_helper": "subslide_end",
      "slideshow": {
       "slide_type": "fragment"
      }
     },
     "outputs": []
    },
    {
     "cell_type": "markdown",
     "metadata": {
      "internals": {
       "frag_helper": "fragment_end",
       "frag_number": 40,
       "slide_type": "subslide"
      },
      "slideshow": {
       "slide_type": "subslide"
      }
     },
     "source": [
      "##Container\n",
      "\n",
      "###An modifiable image with processes running in memory, or an exited container with a modified filesystem"
     ]
    },
    {
     "cell_type": "markdown",
     "metadata": {
      "internals": {
       "frag_helper": "fragment_end",
       "frag_number": 42,
       "slide_helper": "subslide_end"
      },
      "slide_helper": "subslide_end",
      "slideshow": {
       "slide_type": "fragment"
      }
     },
     "source": [
      "<img src=\"images/DockerFilesystemsBusybox.png\" width=\"600px\">"
     ]
    },
    {
     "cell_type": "code",
     "collapsed": false,
     "input": [
      "!docker ps"
     ],
     "language": "python",
     "metadata": {
      "internals": {
       "frag_helper": "fragment_end",
       "frag_number": 42,
       "slide_type": "subslide"
      },
      "slideshow": {
       "slide_type": "subslide"
      }
     },
     "outputs": []
    },
    {
     "cell_type": "code",
     "collapsed": false,
     "input": [
      "!docker run -d busybox sh -c 'sleep 3'"
     ],
     "language": "python",
     "metadata": {
      "internals": {
       "frag_helper": "fragment_end",
       "frag_number": 44
      },
      "slideshow": {
       "slide_type": "fragment"
      }
     },
     "outputs": []
    },
    {
     "cell_type": "code",
     "collapsed": false,
     "input": [
      "!docker ps"
     ],
     "language": "python",
     "metadata": {
      "internals": {
       "frag_helper": "fragment_end",
       "frag_number": 45
      },
      "slideshow": {
       "slide_type": "fragment"
      }
     },
     "outputs": []
    },
    {
     "cell_type": "code",
     "collapsed": false,
     "input": [
      "!docker ps -a"
     ],
     "language": "python",
     "metadata": {
      "internals": {
       "frag_helper": "fragment_end",
       "frag_number": 46,
       "slide_helper": "subslide_end"
      },
      "slide_helper": "subslide_end",
      "slideshow": {
       "slide_type": "fragment"
      }
     },
     "outputs": []
    },
    {
     "cell_type": "markdown",
     "metadata": {
      "internals": {
       "frag_helper": "fragment_end",
       "frag_number": 46,
       "slide_type": "subslide"
      },
      "slideshow": {
       "slide_type": "subslide"
      }
     },
     "source": [
      "##Volume\n",
      "\n",
      "###A mounted directory that is not tracked as a filesystem layer\n",
      "\n",
      "* Data volumes are initialized when a container is created\n",
      "* Volumes can be shared and reused between containers\n",
      "* Changes to a data volume are made directly\n",
      "* Changes to a data volume will not be included when you update an image\n",
      "* Volume persist until no containers use them\n",
      "* Host directories can also be mounted as data volumes"
     ]
    },
    {
     "cell_type": "code",
     "collapsed": false,
     "input": [
      "!ls $PWD/images/"
     ],
     "language": "python",
     "metadata": {
      "internals": {
       "frag_helper": "fragment_end",
       "frag_number": 46
      },
      "slideshow": {
       "slide_type": "-"
      }
     },
     "outputs": []
    },
    {
     "cell_type": "code",
     "collapsed": false,
     "input": [
      "!docker run --rm --volume $PWD/images:/images busybox \\\n",
      "    sh -c 'ls /images'"
     ],
     "language": "python",
     "metadata": {
      "internals": {
       "frag_helper": "fragment_end",
       "frag_number": 46,
       "slide_helper": "subslide_end"
      },
      "slide_helper": "subslide_end",
      "slideshow": {
       "slide_type": "-"
      }
     },
     "outputs": []
    },
    {
     "cell_type": "markdown",
     "metadata": {
      "internals": {
       "frag_helper": "fragment_end",
       "frag_number": 46,
       "slide_type": "subslide"
      },
      "slideshow": {
       "slide_type": "subslide"
      }
     },
     "source": [
      "##Dockerfile\n",
      "\n",
      "###A sequence of instructions to generate a Docker image"
     ]
    },
    {
     "cell_type": "code",
     "collapsed": false,
     "input": [
      "%%writefile docker-ls-images/Dockerfile\n",
      "\n",
      "# Best practice for Dockerfile's: specify exact versions whenever possible.\n",
      "FROM busybox:4986bf8c1536\n",
      "MAINTAINER Matt McCormick <matt.mccormick@kitware.com>\n",
      "RUN mkdir -p /images\n",
      "VOLUME /images\n",
      "CMD [\"/bin/sh\", \"-c\", \"ls /images\"]"
     ],
     "language": "python",
     "metadata": {
      "internals": {
       "frag_helper": "fragment_end",
       "frag_number": 51,
       "slide_helper": "subslide_end"
      },
      "slide_helper": "subslide_end",
      "slideshow": {
       "slide_type": "fragment"
      }
     },
     "outputs": [
      {
       "output_type": "stream",
       "stream": "stdout",
       "text": [
        "Overwriting docker-ls-images/Dockerfile\n"
       ]
      }
     ],
     "prompt_number": 86
    },
    {
     "cell_type": "code",
     "collapsed": false,
     "input": [
      "!docker build -t ls-images ./docker-ls-images"
     ],
     "language": "python",
     "metadata": {
      "internals": {
       "frag_helper": "fragment_end",
       "frag_number": 51,
       "slide_type": "subslide"
      },
      "slideshow": {
       "slide_type": "subslide"
      }
     },
     "outputs": []
    },
    {
     "cell_type": "code",
     "collapsed": false,
     "input": [
      "!docker run --rm -v $PWD/images:/images ls-images"
     ],
     "language": "python",
     "metadata": {
      "internals": {
       "frag_helper": "fragment_end",
       "frag_number": 53,
       "slide_helper": "subslide_end"
      },
      "slide_helper": "slide_end",
      "slideshow": {
       "slide_type": "fragment"
      }
     },
     "outputs": []
    },
    {
     "cell_type": "markdown",
     "metadata": {
      "internals": {
       "frag_helper": "fragment_end",
       "frag_number": 53,
       "slide_helper": "subslide_end",
       "slide_type": "subslide"
      },
      "slide_helper": "subslide_end",
      "slideshow": {
       "slide_type": "slide"
      }
     },
     "source": [
      "# Example Applications"
     ]
    },
    {
     "cell_type": "markdown",
     "metadata": {
      "internals": {
       "frag_helper": "fragment_end",
       "frag_number": 53,
       "slide_helper": "subslide_end",
       "slide_type": "subslide"
      },
      "slide_helper": "subslide_end",
      "slideshow": {
       "slide_type": "subslide"
      }
     },
     "source": [
      "##Creating a Reproducible Computational Environment"
     ]
    },
    {
     "cell_type": "markdown",
     "metadata": {
      "internals": {
       "frag_helper": "fragment_end",
       "frag_number": 53,
       "slide_helper": "subslide_end",
       "slide_type": "subslide"
      },
      "slide_helper": "subslide_end",
      "slideshow": {
       "slide_type": "subslide"
      }
     },
     "source": [
      "Reproducing [an article on PET image series kinetic analysis](http://hdl.handle.net/10380/3469)\n",
      "\n",
      "<img src=\"images/itkka.png\" width=\"650px\">"
     ]
    },
    {
     "cell_type": "markdown",
     "metadata": {
      "internals": {
       "frag_helper": "fragment_end",
       "frag_number": 53,
       "slide_helper": "subslide_end",
       "slide_type": "subslide"
      },
      "slide_helper": "subslide_end",
      "slideshow": {
       "slide_type": "subslide"
      }
     },
     "source": [
      "####The Article's Build Instructions Part 1\n",
      "\n",
      "<img src=\"images/BuildInstructions1.png\" width=\"650px\">"
     ]
    },
    {
     "cell_type": "markdown",
     "metadata": {
      "internals": {
       "frag_helper": "fragment_end",
       "frag_number": 53,
       "slide_helper": "subslide_end",
       "slide_type": "subslide"
      },
      "slide_helper": "subslide_end",
      "slideshow": {
       "slide_type": "subslide"
      }
     },
     "source": [
      "####The Article's Build Instructions Part 2\n",
      "\n",
      "<img src=\"images/BuildInstructions2.png\" width=\"650px\">"
     ]
    },
    {
     "cell_type": "markdown",
     "metadata": {
      "internals": {
       "frag_helper": "fragment_end",
       "frag_number": 53,
       "slide_helper": "subslide_end",
       "slide_type": "subslide"
      },
      "slide_helper": "subslide_end",
      "slideshow": {
       "slide_type": "subslide"
      }
     },
     "source": [
      "####The Article's Build Instructions Part 3\n",
      "\n",
      "<img src=\"images/BuildInstructions3.png\" width=\"650px\">"
     ]
    },
    {
     "cell_type": "markdown",
     "metadata": {
      "internals": {
       "frag_helper": "fragment_end",
       "frag_number": 53,
       "slide_helper": "subslide_end",
       "slide_type": "subslide"
      },
      "slide_helper": "subslide_end",
      "slideshow": {
       "slide_type": "subslide"
      }
     },
     "source": [
      "####The Article's Build Instructions Part 4\n",
      "\n",
      "<img src=\"images/BuildInstructions4.png\" width=\"650px\">"
     ]
    },
    {
     "cell_type": "markdown",
     "metadata": {
      "internals": {
       "frag_helper": "fragment_end",
       "frag_number": 53,
       "slide_type": "subslide"
      },
      "slideshow": {
       "slide_type": "subslide"
      }
     },
     "source": [
      "###Building and Running with Docker"
     ]
    },
    {
     "cell_type": "code",
     "collapsed": false,
     "input": [
      "!git clone https://github.com/thewtex/docker-itkka\n",
      "!cd docker-itkka\n",
      "!./build.sh\n",
      "!./run.sh"
     ],
     "language": "python",
     "metadata": {
      "internals": {
       "frag_helper": "fragment_end",
       "frag_number": 62
      },
      "slideshow": {
       "slide_type": "fragment"
      }
     },
     "outputs": []
    },
    {
     "cell_type": "markdown",
     "metadata": {
      "internals": {
       "frag_helper": "fragment_end",
       "frag_number": 63,
       "slide_helper": "subslide_end"
      },
      "slide_helper": "subslide_end",
      "slideshow": {
       "slide_type": "fragment"
      }
     },
     "source": [
      "The requirements for reproducing this computational analysis,\n",
      "\n",
      "* the Ubuntu 14.04 operating system, \n",
      "* the GCC 4.8.2-19ubuntu1 compiler, \n",
      "* and particular versions of the dependencies \n",
      "  - the Insight Toolkit (ITK), \n",
      "  - libxml,\n",
      "  - sundials,\n",
      "  - and Boost,\n",
      "  \n",
      "are now **runnable on any x86_64 operating system**, **archiveable**, and **shareable**."
     ]
    },
    {
     "cell_type": "markdown",
     "metadata": {
      "internals": {
       "frag_helper": "fragment_end",
       "frag_number": 63,
       "slide_type": "subslide"
      },
      "slideshow": {
       "slide_type": "subslide"
      }
     },
     "source": [
      "###Still runnable ten years later\n",
      "\n",
      "Ten years later, when the OS, compiler, and dependencies are likely to be no longer available, we can still easily run and modify the computational environment by pulling [its image](https://github.com/thewtex/docker-itkka) from DockerHub."
     ]
    },
    {
     "cell_type": "code",
     "collapsed": false,
     "input": [
      "!docker pull thewtex/itkka\n",
      "!docker run -it thewtex/itkka bash"
     ],
     "language": "python",
     "metadata": {
      "internals": {
       "frag_helper": "fragment_end",
       "frag_number": 65,
       "slide_helper": "subslide_end"
      },
      "slide_helper": "subslide_end",
      "slideshow": {
       "slide_type": "fragment"
      }
     },
     "outputs": []
    },
    {
     "cell_type": "markdown",
     "metadata": {
      "internals": {
       "frag_helper": "fragment_end",
       "frag_number": 65,
       "slide_helper": "subslide_end",
       "slide_type": "subslide"
      },
      "slide_helper": "slide_end",
      "slideshow": {
       "slide_type": "subslide"
      }
     },
     "source": [
      "###Graphical Applications and Docker\n",
      "\n",
      "A *portable Docker image* will only assume standard CPU/memory/disk/network resources are available. The use of *local USB devices* and *video card devices* will not make the images runnable anywhere.\n",
      "\n",
      "* Use [IPython Notebooks](http://ipython.org/notebook.html)\n",
      "* Use a [VNC Server / Client](http://stackoverflow.com/questions/16296753/can-you-run-gui-apps-in-a-docker-container)\n",
      "* [Install](https://github.com/InsightSoftwareConsortium/ITKDevelopmentEnvironment/blob/master/Docker/itksoftwareguide-edit/Dockerfile) [node-mirror](https://github.com/soliton4/nodeMirror) for a browser viewer/terminal/browser/editor\n",
      "* No OpenGL"
     ]
    },
    {
     "cell_type": "markdown",
     "metadata": {
      "internals": {
       "frag_helper": "fragment_end",
       "frag_number": 65,
       "slide_helper": "subslide_end",
       "slide_type": "subslide"
      },
      "slide_helper": "subslide_end",
      "slideshow": {
       "slide_type": "slide"
      }
     },
     "source": [
      "# Recap and Next Steps"
     ]
    },
    {
     "cell_type": "markdown",
     "metadata": {
      "internals": {
       "frag_helper": "fragment_end",
       "frag_number": 65,
       "slide_type": "subslide"
      },
      "slideshow": {
       "slide_type": "subslide"
      }
     },
     "source": [
      "## Docker is\n"
     ]
    },
    {
     "cell_type": "markdown",
     "metadata": {
      "internals": {
       "frag_helper": "fragment_end",
       "frag_number": 69
      },
      "slideshow": {
       "slide_type": "fragment"
      }
     },
     "source": [
      "* Sandboxed chroot +"
     ]
    },
    {
     "cell_type": "markdown",
     "metadata": {
      "internals": {
       "frag_helper": "fragment_end",
       "frag_number": 70
      },
      "slideshow": {
       "slide_type": "fragment"
      }
     },
     "source": [
      "* Incremental, copy on write filesystem +"
     ]
    },
    {
     "cell_type": "markdown",
     "metadata": {
      "internals": {
       "frag_helper": "fragment_end",
       "frag_number": 71
      },
      "slideshow": {
       "slide_type": "fragment"
      }
     },
     "source": [
      "* Distributed VCS for binaries +"
     ]
    },
    {
     "cell_type": "markdown",
     "metadata": {
      "internals": {
       "frag_helper": "fragment_end",
       "frag_number": 72,
       "slide_helper": "subslide_end"
      },
      "slide_helper": "subslide_end",
      "slideshow": {
       "slide_type": "fragment"
      }
     },
     "source": [
      "* Easy to use interface"
     ]
    },
    {
     "cell_type": "markdown",
     "metadata": {
      "internals": {
       "frag_helper": "fragment_end",
       "frag_number": 72,
       "slide_type": "subslide"
      },
      "slideshow": {
       "slide_type": "subslide"
      }
     },
     "source": [
      "## Concepts"
     ]
    },
    {
     "cell_type": "markdown",
     "metadata": {
      "internals": {
       "frag_helper": "fragment_end",
       "frag_number": 74
      },
      "slideshow": {
       "slide_type": "fragment"
      }
     },
     "source": [
      "* *Image*:  A read-only file system layer"
     ]
    },
    {
     "cell_type": "markdown",
     "metadata": {
      "internals": {
       "frag_helper": "fragment_end",
       "frag_number": 75
      },
      "slideshow": {
       "slide_type": "fragment"
      }
     },
     "source": [
      "* *Container*: A writable image with processes running in memory, or an exited container with a modified filesystem"
     ]
    },
    {
     "cell_type": "markdown",
     "metadata": {
      "internals": {
       "frag_helper": "fragment_end",
       "frag_number": 76
      },
      "slideshow": {
       "slide_type": "fragment"
      }
     },
     "source": [
      "* *Volume*: A mounted directory that is not tracked as a filesystem layer"
     ]
    },
    {
     "cell_type": "markdown",
     "metadata": {
      "internals": {
       "frag_helper": "fragment_end",
       "frag_number": 77,
       "slide_helper": "subslide_end"
      },
      "slide_helper": "subslide_end",
      "slideshow": {
       "slide_type": "fragment"
      }
     },
     "source": [
      "* *Dockerfile*: A sequence of instructions to generate a Docker image"
     ]
    },
    {
     "cell_type": "markdown",
     "metadata": {
      "internals": {
       "frag_helper": "fragment_end",
       "frag_number": 77,
       "slide_type": "subslide"
      },
      "slideshow": {
       "slide_type": "subslide"
      }
     },
     "source": [
      "## Applications"
     ]
    },
    {
     "cell_type": "markdown",
     "metadata": {
      "internals": {
       "frag_helper": "fragment_end",
       "frag_number": 79
      },
      "slideshow": {
       "slide_type": "fragment"
      }
     },
     "source": [
      "* Reproducible computational environment"
     ]
    },
    {
     "cell_type": "markdown",
     "metadata": {
      "internals": {
       "frag_helper": "fragment_end",
       "frag_number": 80
      },
      "slideshow": {
       "slide_type": "fragment"
      }
     },
     "source": [
      "* Run exotic applications in sandbox"
     ]
    },
    {
     "cell_type": "markdown",
     "metadata": {
      "internals": {
       "frag_helper": "fragment_end",
       "frag_number": 81,
       "slide_helper": "subslide_end"
      },
      "slide_helper": "subslide_end",
      "slideshow": {
       "slide_type": "fragment"
      }
     },
     "source": [
      "* Webapp development and deployment"
     ]
    },
    {
     "cell_type": "heading",
     "level": 2,
     "metadata": {
      "internals": {
       "frag_helper": "fragment_end",
       "frag_number": 81,
       "slide_type": "subslide"
      },
      "slideshow": {
       "slide_type": "subslide"
      }
     },
     "source": [
      "Learn more!"
     ]
    },
    {
     "cell_type": "markdown",
     "metadata": {
      "internals": {
       "frag_helper": "fragment_end",
       "frag_number": 83,
       "slide_helper": "subslide_end"
      },
      "slide_helper": "subslide_end",
      "slideshow": {
       "slide_type": "fragment"
      }
     },
     "source": [
      "* [Interactive Brower-Based Docker Tutorial](https://www.docker.com/tryit/)\n",
      "* [Docker Documentation](https://docs.docker.com/userguide/)\n",
      "* [Reproducible Research: Walking the Walk Tutorial](https://reproducible-research.github.io/scipy-tutorial-2014/)\n",
      "* [IPython DockerHub Repositories](https://registry.hub.docker.com/repos/ipython/)"
     ]
    },
    {
     "cell_type": "markdown",
     "metadata": {
      "internals": {
       "frag_helper": "fragment_end",
       "frag_number": 83,
       "slide_helper": "subslide_end",
       "slide_type": "subslide"
      },
      "slide_helper": "subslide_end",
      "slideshow": {
       "slide_type": "subslide"
      }
     },
     "source": [
      "##Docker vs. LXC\n",
      "\n",
      "* [LXC](https://linuxcontainers.org/) is a set of tools and API to interact with Linux kernel namespaces, cgroups, etc.\n",
      "* LXC used to be the default execution enviroment for Docker\n",
      "* Docker provides LXC function, plus:\n",
      "  - Portable deployment across machines\n",
      "  - Application-centric\n",
      "  - Automatic builds\n",
      "  - Versioning\n",
      "  - Component re-use\n",
      "  - Sharing\n",
      "  - Tool echosystem"
     ]
    },
    {
     "cell_type": "markdown",
     "metadata": {
      "internals": {
       "frag_helper": "fragment_end",
       "frag_number": 83,
       "slide_helper": "subslide_end",
       "slide_type": "subslide"
      },
      "slide_helper": "slide_end",
      "slideshow": {
       "slide_type": "subslide"
      }
     },
     "source": [
      "##Docker vs Rocket\n",
      "\n",
      "- [Rocket](https://github.com/coreos/rocket) is a container system like Docker developed by CoreOS\n",
      "- Rocket is not yet fully operational\n",
      "- Rocket does not use a daemon/client system"
     ]
    }
   ],
   "metadata": {}
  }
 ]
}